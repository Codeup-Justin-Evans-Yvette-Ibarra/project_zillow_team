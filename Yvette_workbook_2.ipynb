{
 "cells": [
  {
   "cell_type": "code",
   "execution_count": 1,
   "id": "5af8c5b0",
   "metadata": {},
   "outputs": [],
   "source": [
    "import numpy as np\n",
    "import pandas as pd\n",
    "import seaborn as sns\n",
    "import os\n",
    "import matplotlib.pyplot as plt\n",
    "from sklearn.model_selection import train_test_split\n",
    "from sklearn.preprocessing import MinMaxScaler\n",
    "import scipy.stats as stats\n",
    "from sklearn.cluster import KMeans\n",
    "\n",
    "from sklearn.metrics import mean_squared_error,explained_variance_score\n",
    "from sklearn.preprocessing import PolynomialFeatures\n",
    "\n",
    "import wrangle as w\n",
    "\n",
    "import model as m\n",
    "import env\n",
    "\n",
    "import warnings\n",
    "warnings.filterwarnings(\"ignore\")"
   ]
  },
  {
   "cell_type": "markdown",
   "id": "a1e11eff",
   "metadata": {},
   "source": [
    "# Acquire/Prep"
   ]
  },
  {
   "cell_type": "code",
   "execution_count": 2,
   "id": "495efced",
   "metadata": {},
   "outputs": [],
   "source": [
    "df = w.get_zillow_data()"
   ]
  },
  {
   "cell_type": "code",
   "execution_count": 3,
   "id": "0e2ec6e2",
   "metadata": {},
   "outputs": [],
   "source": [
    "df= w.zillow_prep(df)"
   ]
  },
  {
   "cell_type": "code",
   "execution_count": 4,
   "id": "47dcfb97",
   "metadata": {},
   "outputs": [],
   "source": [
    "train,validate,test = w.split(df)"
   ]
  },
  {
   "cell_type": "code",
   "execution_count": 5,
   "id": "f0c69521",
   "metadata": {},
   "outputs": [],
   "source": [
    "train, test, validate, train_scaled, validate_scaled, test_scaled = m.create_cluster('loc_clusters', train,validate, test,['longitude', 'latitude','age'],5)\n",
    "train, test, validate, train_scaled, validate_scaled, test_scaled = m.create_cluster('cluster_price_size', train,validate, test,['taxamount', 'sqft', 'lot_sqft'],4)\n",
    "train, test, validate, train_scaled, validate_scaled, test_scaled = m.create_cluster('cluster_delinquency_value', train,validate, test,['tax_value', 'sqft','lot_sqft','has_taxdelinquency'],4)\n"
   ]
  },
  {
   "cell_type": "markdown",
   "id": "4e6fddf7",
   "metadata": {},
   "source": [
    "# Explore"
   ]
  },
  {
   "cell_type": "code",
   "execution_count": null,
   "id": "3291fb00",
   "metadata": {},
   "outputs": [],
   "source": []
  },
  {
   "cell_type": "code",
   "execution_count": null,
   "id": "afbaa869",
   "metadata": {},
   "outputs": [],
   "source": []
  },
  {
   "cell_type": "code",
   "execution_count": null,
   "id": "65efc381",
   "metadata": {},
   "outputs": [],
   "source": []
  },
  {
   "cell_type": "markdown",
   "id": "a605c072",
   "metadata": {},
   "source": [
    "# Model"
   ]
  },
  {
   "cell_type": "code",
   "execution_count": 6,
   "id": "0f1e993e",
   "metadata": {},
   "outputs": [],
   "source": [
    "features_to_model1 =['has_taxdelinquency', 'cluster_price_size_0', 'cluster_price_size_1', 'age','log_error']\n"
   ]
  },
  {
   "cell_type": "code",
   "execution_count": 25,
   "id": "2722e40c",
   "metadata": {},
   "outputs": [],
   "source": [
    "features_to_model2= ['loc_clusters_1','loc_clusters_0','log_error']\n"
   ]
  },
  {
   "cell_type": "code",
   "execution_count": 26,
   "id": "805c857d",
   "metadata": {},
   "outputs": [],
   "source": [
    "# prepare data for modeling features set 1\n",
    "X_train_scaled,y_train, X_validate_scaled,y_validate, X_test_scaled, y_test = m.model_data_prep(train_scaled, validate_scaled,test_scaled, features_to_model1)\n",
    "\n"
   ]
  },
  {
   "cell_type": "code",
   "execution_count": 27,
   "id": "fca448a1",
   "metadata": {},
   "outputs": [],
   "source": [
    "# prepare data for modeling features set 2\n",
    "X_train_scaled2,y_train2, X_validate_scaled2,y_validate2, X_test_scaled2, y_test2 = m.model_data_prep2(train_scaled, validate_scaled,test_scaled, features_to_model2)\n",
    "\n"
   ]
  },
  {
   "cell_type": "code",
   "execution_count": 28,
   "id": "45f5695a",
   "metadata": {},
   "outputs": [
    {
     "name": "stdout",
     "output_type": "stream",
     "text": [
      "Features set 1\n",
      "RMSE for F1: OLS using LinearRegression\n",
      "Training/In-Sample:  0.17129603784721747 \n",
      "Validation/Out-of-Sample:  0.16050281798358967\n",
      "_______________\n",
      "RMSE for F1: Polynomial Model, degrees=2\n",
      "Training/In-Sample:  0.1712784324311459 \n",
      "Validation/Out-of-Sample:  0.1604820218870208\n"
     ]
    }
   ],
   "source": [
    "# features set 1 on train and validate\n",
    "metric1= m.modeling(X_train_scaled, y_train, X_validate_scaled,y_validate, X_test_scaled, y_test)\n"
   ]
  },
  {
   "cell_type": "code",
   "execution_count": 29,
   "id": "6d28d2e0",
   "metadata": {},
   "outputs": [
    {
     "name": "stdout",
     "output_type": "stream",
     "text": [
      "Features Set 2\n",
      "RMSE for F2: OLS using LinearRegression\n",
      "Training/In-Sample:  0.17131530873962236 \n",
      "Validation/Out-of-Sample:  0.1602988383823851\n",
      "_______________\n",
      "RMSE for F2: Polynomial Model, degrees=2\n",
      "Training/In-Sample:  0.17131669060959479 \n",
      "Validation/Out-of-Sample:  0.16029080033934145\n"
     ]
    }
   ],
   "source": [
    "# features set 2 on train and validate\n",
    "metric2 = m.modeling2(X_train_scaled2, y_train2, X_validate_scaled2,y_validate2, X_test_scaled2, y_test2)"
   ]
  },
  {
   "cell_type": "code",
   "execution_count": 30,
   "id": "24213e3b",
   "metadata": {
    "scrolled": true
   },
   "outputs": [
    {
     "data": {
      "text/html": [
       "<div>\n",
       "<style scoped>\n",
       "    .dataframe tbody tr th:only-of-type {\n",
       "        vertical-align: middle;\n",
       "    }\n",
       "\n",
       "    .dataframe tbody tr th {\n",
       "        vertical-align: top;\n",
       "    }\n",
       "\n",
       "    .dataframe thead th {\n",
       "        text-align: right;\n",
       "    }\n",
       "</style>\n",
       "<table border=\"1\" class=\"dataframe\">\n",
       "  <thead>\n",
       "    <tr style=\"text-align: right;\">\n",
       "      <th></th>\n",
       "      <th>model</th>\n",
       "      <th>RMSE_validate</th>\n",
       "    </tr>\n",
       "  </thead>\n",
       "  <tbody>\n",
       "    <tr>\n",
       "      <th>0</th>\n",
       "      <td>mean_baseline</td>\n",
       "      <td>0.171387</td>\n",
       "    </tr>\n",
       "    <tr>\n",
       "      <th>1</th>\n",
       "      <td>F1: OLS Regressor</td>\n",
       "      <td>0.160503</td>\n",
       "    </tr>\n",
       "    <tr>\n",
       "      <th>2</th>\n",
       "      <td>F1: degree2</td>\n",
       "      <td>0.160482</td>\n",
       "    </tr>\n",
       "    <tr>\n",
       "      <th>3</th>\n",
       "      <td>mean_baseline</td>\n",
       "      <td>0.171387</td>\n",
       "    </tr>\n",
       "    <tr>\n",
       "      <th>4</th>\n",
       "      <td>F2: OLS Regressor</td>\n",
       "      <td>0.160299</td>\n",
       "    </tr>\n",
       "    <tr>\n",
       "      <th>5</th>\n",
       "      <td>F2: degree2</td>\n",
       "      <td>0.160291</td>\n",
       "    </tr>\n",
       "  </tbody>\n",
       "</table>\n",
       "</div>"
      ],
      "text/plain": [
       "               model  RMSE_validate\n",
       "0      mean_baseline       0.171387\n",
       "1  F1: OLS Regressor       0.160503\n",
       "2        F1: degree2       0.160482\n",
       "3      mean_baseline       0.171387\n",
       "4  F2: OLS Regressor       0.160299\n",
       "5        F2: degree2       0.160291"
      ]
     },
     "execution_count": 30,
     "metadata": {},
     "output_type": "execute_result"
    }
   ],
   "source": [
    "metric=pd.concat([metric1,metric2],ignore_index=True)\n",
    "metric"
   ]
  },
  {
   "cell_type": "markdown",
   "id": "a6421c75",
   "metadata": {},
   "source": [
    "#TEST F2:OLS REGRESSOR......."
   ]
  },
  {
   "cell_type": "code",
   "execution_count": 13,
   "id": "35f6c0f1",
   "metadata": {
    "scrolled": true
   },
   "outputs": [],
   "source": [
    "X_train_scaled2,y_train2, X_validate_scaled2,y_validate2, X_test_scaled2, y_test2 = m.model_data_prep(train_scaled, validate_scaled,test_scaled, features_to_model2)"
   ]
  },
  {
   "cell_type": "code",
   "execution_count": 14,
   "id": "0065b01e",
   "metadata": {
    "scrolled": false
   },
   "outputs": [
    {
     "data": {
      "text/plain": [
       "33007   -0.127641\n",
       "11075   -0.416235\n",
       "14604    0.062431\n",
       "39932    0.034278\n",
       "13340    0.007982\n",
       "           ...   \n",
       "27073    0.021019\n",
       "11634   -0.035492\n",
       "45815    0.000572\n",
       "27328    0.021946\n",
       "42192    0.021051\n",
       "Name: log_error, Length: 10059, dtype: float64"
      ]
     },
     "execution_count": 14,
     "metadata": {},
     "output_type": "execute_result"
    }
   ],
   "source": [
    "y_test"
   ]
  },
  {
   "cell_type": "markdown",
   "id": "71f3832e",
   "metadata": {},
   "source": [
    "# Test Evaluation"
   ]
  },
  {
   "cell_type": "code",
   "execution_count": 15,
   "id": "540be0f2",
   "metadata": {
    "scrolled": true
   },
   "outputs": [
    {
     "data": {
      "text/html": [
       "<div>\n",
       "<style scoped>\n",
       "    .dataframe tbody tr th:only-of-type {\n",
       "        vertical-align: middle;\n",
       "    }\n",
       "\n",
       "    .dataframe tbody tr th {\n",
       "        vertical-align: top;\n",
       "    }\n",
       "\n",
       "    .dataframe thead th {\n",
       "        text-align: right;\n",
       "    }\n",
       "</style>\n",
       "<table border=\"1\" class=\"dataframe\">\n",
       "  <thead>\n",
       "    <tr style=\"text-align: right;\">\n",
       "      <th></th>\n",
       "      <th>model</th>\n",
       "      <th>RMSE_validate</th>\n",
       "      <th>r^2_validate</th>\n",
       "    </tr>\n",
       "  </thead>\n",
       "  <tbody>\n",
       "    <tr>\n",
       "      <th>0</th>\n",
       "      <td>mean_baseline</td>\n",
       "      <td>0.171387</td>\n",
       "      <td>0.000000</td>\n",
       "    </tr>\n",
       "    <tr>\n",
       "      <th>1</th>\n",
       "      <td>Train F2: degree2</td>\n",
       "      <td>0.171315</td>\n",
       "      <td>0.000831</td>\n",
       "    </tr>\n",
       "    <tr>\n",
       "      <th>2</th>\n",
       "      <td>Validate F2: degree2</td>\n",
       "      <td>0.160299</td>\n",
       "      <td>0.002804</td>\n",
       "    </tr>\n",
       "    <tr>\n",
       "      <th>3</th>\n",
       "      <td>Test F2: degree2</td>\n",
       "      <td>0.182203</td>\n",
       "      <td>0.000464</td>\n",
       "    </tr>\n",
       "  </tbody>\n",
       "</table>\n",
       "</div>"
      ],
      "text/plain": [
       "                  model  RMSE_validate  r^2_validate\n",
       "0         mean_baseline       0.171387      0.000000\n",
       "1     Train F2: degree2       0.171315      0.000831\n",
       "2  Validate F2: degree2       0.160299      0.002804\n",
       "3      Test F2: degree2       0.182203      0.000464"
      ]
     },
     "execution_count": 15,
     "metadata": {},
     "output_type": "execute_result"
    }
   ],
   "source": [
    "m.test_modeling2(X_train_scaled2, y_train2, X_validate_scaled2,y_validate2, X_test_scaled2, y_test2)"
   ]
  },
  {
   "cell_type": "code",
   "execution_count": null,
   "id": "4a4f513f",
   "metadata": {},
   "outputs": [],
   "source": []
  }
 ],
 "metadata": {
  "kernelspec": {
   "display_name": "Python 3 (ipykernel)",
   "language": "python",
   "name": "python3"
  },
  "language_info": {
   "codemirror_mode": {
    "name": "ipython",
    "version": 3
   },
   "file_extension": ".py",
   "mimetype": "text/x-python",
   "name": "python",
   "nbconvert_exporter": "python",
   "pygments_lexer": "ipython3",
   "version": "3.9.12"
  }
 },
 "nbformat": 4,
 "nbformat_minor": 5
}
