{
 "cells": [
  {
   "cell_type": "markdown",
   "id": "11bba3ec",
   "metadata": {},
   "source": [
    "# $Final$ $Report$ $Zillow$ $Team$ $Project$"
   ]
  },
  {
   "cell_type": "markdown",
   "id": "b148b892",
   "metadata": {},
   "source": [
    "# **Goals:**"
   ]
  },
  {
   "cell_type": "markdown",
   "id": "2c9b3b01",
   "metadata": {},
   "source": [
    "* Discover key attributes that drive error in Zestimate .\n",
    "\n",
    "* Use those attributes to develop a machine learning model to predict log error.\n",
    "\n",
    "  \n"
   ]
  },
  {
   "cell_type": "markdown",
   "id": "eaeb77fb",
   "metadata": {},
   "source": [
    "## Imports"
   ]
  },
  {
   "cell_type": "code",
   "execution_count": 1,
   "id": "f6e1acc7",
   "metadata": {},
   "outputs": [],
   "source": [
    "import pandas as pd\n",
    "import numpy as np\n",
    "\n",
    "import matplotlib.pyplot as plt\n",
    "import seaborn as sns\n",
    "\n",
    "import wrangle as w\n",
    "#import model as m\n",
    "#import explore as e\n",
    "\n",
    "\n",
    "#import warnings\n",
    "#warnings.filterwarnings(\"ignore\")"
   ]
  },
  {
   "cell_type": "markdown",
   "id": "d47e63fd",
   "metadata": {},
   "source": [
    "# Acquire:"
   ]
  },
  {
   "cell_type": "code",
   "execution_count": 2,
   "id": "5f4a18a2",
   "metadata": {
    "scrolled": false
   },
   "outputs": [],
   "source": [
    "# acquire telco data \n",
    "df = w.get_zillow_data()"
   ]
  },
  {
   "cell_type": "code",
   "execution_count": 3,
   "id": "41c66e4b",
   "metadata": {},
   "outputs": [
    {
     "data": {
      "text/plain": [
       "(52319, 68)"
      ]
     },
     "execution_count": 3,
     "metadata": {},
     "output_type": "execute_result"
    }
   ],
   "source": [
    "df.shape"
   ]
  },
  {
   "cell_type": "markdown",
   "id": "83311917",
   "metadata": {},
   "source": [
    "* Data acquire from Codeup Database 11/17/22\n",
    "\n",
    "* It contained  52319 rows and 68 columns before cleaning\n",
    "\n",
    "* Each row represents a single family household:\n",
    "    * properties from 2017 with current transactions\n",
    "    * located in the Californian counties of 'Los Angeles' or 'Orange'or 'Ventura'\n",
    "\n",
    "* Each column represents a feature related to the single family residential."
   ]
  },
  {
   "cell_type": "markdown",
   "id": "8c32a11e",
   "metadata": {},
   "source": [
    "# Prepare:"
   ]
  },
  {
   "cell_type": "markdown",
   "id": "b78a7893",
   "metadata": {},
   "source": [
    "prepare actions:\n",
    "* After the follwing steps we retained 95.9% of original data:\n",
    "    * Outliers were removed\n",
    "    (to better fit the definition of Single Family Property):\n",
    "    \n",
    "        * Beds above 8 \n",
    "        * Baths above 8 \n",
    "        * Home values above 2_000_000\n",
    "        * Rows with 0 beds and/or 0 baths \n",
    "        \n",
    "    * For the following features it was assumed null values meant the structure did not exist on property:\n",
    "        * has_fireplace (45096)\n",
    "        * has_deck (51930)\n",
    "        * has_pool (41242)\n",
    "        * has_garage (34335)\n",
    "        * has_taxdelinquency(50251)\n",
    "\n",
    "* Columns with less than 50_000 values and columns with no pertenant value were dropped:\n",
    "     * totaling 34 columns\n",
    " \n",
    "* Feature engineer \n",
    "     * 'age' is a feature created by subracting yearbulit from 2017\n",
    "     * 'optional_features' is a feature created by stating a 1 if aproperty has a fireplace, garage, pool or deck and 0 if none is present.\n",
    "        \n",
    "* Encoded categorical variables\n",
    "\n",
    "* Split data into train, validate and test \n",
    "    * Approximately: train 56%, validate 24%, test 20%\n",
    "  \n"
   ]
  },
  {
   "cell_type": "markdown",
   "id": "f11fbd93",
   "metadata": {},
   "source": [
    "###                                                        <h1><center>Data Dictionary</center></h1>     \n",
    "\n",
    "|Feature          | Description|\n",
    "| :---------------: | :---------------------------------- |\n",
    "| home_value (target) | The total tax assessed value of the parcel  |\n",
    "| squarefeet:  | Calculated total finished living area of the home |\n",
    "| bathrooms:   |  Number of bathrooms in home including fractional bathrooms |\n",
    "| bedrooms: | Number of bedrooms in home  |\n",
    "| yearbuilt:  |  The Year the principal residence was built   |\n",
    "| fireplace: | fireplace on property (if any = 1) |\n",
    "| deck:  | deck on property (if any = 1) |\n",
    "| pool:  | pool on property (if any = 1) |\n",
    "| garage: | garage on property (if any = 1) |\n",
    "| county: | FIPS code for californian counties: 6111 Ventura County, 6059  Orange County, 6037 Los Angeles County |\n",
    "| home_age: | The age of the home in 2017   |\n",
    "|optional_features: |If a home has any of the follwing: fireplace, deck, pool, garage it is noted as 1   |\n",
    "|additional features: | \tEncoded and values for categorical data\n"
   ]
  },
  {
   "cell_type": "code",
   "execution_count": 5,
   "id": "f58139b3",
   "metadata": {
    "scrolled": true
   },
   "outputs": [],
   "source": [
    "# prepare data \n",
    "df = w.zillow_prep(df)"
   ]
  },
  {
   "cell_type": "code",
   "execution_count": 6,
   "id": "26dffed8",
   "metadata": {},
   "outputs": [
    {
     "data": {
      "text/plain": [
       "(50293, 34)"
      ]
     },
     "execution_count": 6,
     "metadata": {},
     "output_type": "execute_result"
    }
   ],
   "source": [
    "df.shape"
   ]
  },
  {
   "cell_type": "code",
   "execution_count": 7,
   "id": "55ead39e",
   "metadata": {},
   "outputs": [],
   "source": [
    "# split data: train, validate and test\n",
    "train, validate, test = w.split_data(df)"
   ]
  },
  {
   "cell_type": "markdown",
   "id": "1500c993",
   "metadata": {},
   "source": [
    "# Peek at the data"
   ]
  },
  {
   "cell_type": "code",
   "execution_count": 8,
   "id": "46ee4353",
   "metadata": {
    "scrolled": true
   },
   "outputs": [
    {
     "data": {
      "text/html": [
       "<div>\n",
       "<style scoped>\n",
       "    .dataframe tbody tr th:only-of-type {\n",
       "        vertical-align: middle;\n",
       "    }\n",
       "\n",
       "    .dataframe tbody tr th {\n",
       "        vertical-align: top;\n",
       "    }\n",
       "\n",
       "    .dataframe thead th {\n",
       "        text-align: right;\n",
       "    }\n",
       "</style>\n",
       "<table border=\"1\" class=\"dataframe\">\n",
       "  <thead>\n",
       "    <tr style=\"text-align: right;\">\n",
       "      <th></th>\n",
       "      <th>parcelid</th>\n",
       "      <th>bedrooms</th>\n",
       "      <th>bathrooms</th>\n",
       "      <th>calculatedbathnbr</th>\n",
       "      <th>fullbathcnt</th>\n",
       "      <th>age</th>\n",
       "      <th>yearbuilt</th>\n",
       "      <th>has_basement</th>\n",
       "      <th>has_deck</th>\n",
       "      <th>has_fireplace</th>\n",
       "      <th>...</th>\n",
       "      <th>regionidcounty</th>\n",
       "      <th>rawcensustractandblock</th>\n",
       "      <th>censustractandblock</th>\n",
       "      <th>sqft</th>\n",
       "      <th>lot_sqft</th>\n",
       "      <th>tax_value_bldg</th>\n",
       "      <th>tax_value</th>\n",
       "      <th>tax_value_land</th>\n",
       "      <th>taxamount</th>\n",
       "      <th>log_error</th>\n",
       "    </tr>\n",
       "  </thead>\n",
       "  <tbody>\n",
       "    <tr>\n",
       "      <th>11303</th>\n",
       "      <td>14498262</td>\n",
       "      <td>4.0</td>\n",
       "      <td>2.5</td>\n",
       "      <td>2.5</td>\n",
       "      <td>2.0</td>\n",
       "      <td>27.0</td>\n",
       "      <td>1990.0</td>\n",
       "      <td>0</td>\n",
       "      <td>0</td>\n",
       "      <td>0</td>\n",
       "      <td>...</td>\n",
       "      <td>1286.0</td>\n",
       "      <td>6.059032e+07</td>\n",
       "      <td>6.059032e+13</td>\n",
       "      <td>2361.0</td>\n",
       "      <td>10800.0</td>\n",
       "      <td>240309.0</td>\n",
       "      <td>562351.0</td>\n",
       "      <td>322042.0</td>\n",
       "      <td>5740.94</td>\n",
       "      <td>0.014676</td>\n",
       "    </tr>\n",
       "    <tr>\n",
       "      <th>26458</th>\n",
       "      <td>12851739</td>\n",
       "      <td>3.0</td>\n",
       "      <td>2.0</td>\n",
       "      <td>2.0</td>\n",
       "      <td>2.0</td>\n",
       "      <td>55.0</td>\n",
       "      <td>1962.0</td>\n",
       "      <td>0</td>\n",
       "      <td>0</td>\n",
       "      <td>0</td>\n",
       "      <td>...</td>\n",
       "      <td>3101.0</td>\n",
       "      <td>6.037409e+07</td>\n",
       "      <td>6.037409e+13</td>\n",
       "      <td>1245.0</td>\n",
       "      <td>5763.0</td>\n",
       "      <td>140233.0</td>\n",
       "      <td>236264.0</td>\n",
       "      <td>96031.0</td>\n",
       "      <td>3099.27</td>\n",
       "      <td>-0.025476</td>\n",
       "    </tr>\n",
       "    <tr>\n",
       "      <th>28486</th>\n",
       "      <td>11276661</td>\n",
       "      <td>4.0</td>\n",
       "      <td>2.0</td>\n",
       "      <td>2.0</td>\n",
       "      <td>2.0</td>\n",
       "      <td>24.0</td>\n",
       "      <td>1993.0</td>\n",
       "      <td>0</td>\n",
       "      <td>0</td>\n",
       "      <td>0</td>\n",
       "      <td>...</td>\n",
       "      <td>3101.0</td>\n",
       "      <td>6.037901e+07</td>\n",
       "      <td>6.037901e+13</td>\n",
       "      <td>1556.0</td>\n",
       "      <td>14711.0</td>\n",
       "      <td>152292.0</td>\n",
       "      <td>202328.0</td>\n",
       "      <td>50036.0</td>\n",
       "      <td>3234.50</td>\n",
       "      <td>-0.084878</td>\n",
       "    </tr>\n",
       "  </tbody>\n",
       "</table>\n",
       "<p>3 rows × 34 columns</p>\n",
       "</div>"
      ],
      "text/plain": [
       "       parcelid  bedrooms  bathrooms  calculatedbathnbr  fullbathcnt   age  \\\n",
       "11303  14498262       4.0        2.5                2.5          2.0  27.0   \n",
       "26458  12851739       3.0        2.0                2.0          2.0  55.0   \n",
       "28486  11276661       4.0        2.0                2.0          2.0  24.0   \n",
       "\n",
       "       yearbuilt  has_basement  has_deck  has_fireplace  ...  regionidcounty  \\\n",
       "11303     1990.0             0         0              0  ...          1286.0   \n",
       "26458     1962.0             0         0              0  ...          3101.0   \n",
       "28486     1993.0             0         0              0  ...          3101.0   \n",
       "\n",
       "       rawcensustractandblock  censustractandblock    sqft  lot_sqft  \\\n",
       "11303            6.059032e+07         6.059032e+13  2361.0   10800.0   \n",
       "26458            6.037409e+07         6.037409e+13  1245.0    5763.0   \n",
       "28486            6.037901e+07         6.037901e+13  1556.0   14711.0   \n",
       "\n",
       "       tax_value_bldg tax_value tax_value_land  taxamount  log_error  \n",
       "11303        240309.0  562351.0       322042.0    5740.94   0.014676  \n",
       "26458        140233.0  236264.0        96031.0    3099.27  -0.025476  \n",
       "28486        152292.0  202328.0        50036.0    3234.50  -0.084878  \n",
       "\n",
       "[3 rows x 34 columns]"
      ]
     },
     "execution_count": 8,
     "metadata": {},
     "output_type": "execute_result"
    }
   ],
   "source": [
    "train.head(3)"
   ]
  },
  {
   "cell_type": "markdown",
   "id": "03e989b5",
   "metadata": {},
   "source": [
    "# Explore:"
   ]
  },
  {
   "cell_type": "markdown",
   "id": "43ec4847",
   "metadata": {},
   "source": [
    "## Questin 1?"
   ]
  },
  {
   "cell_type": "code",
   "execution_count": 9,
   "id": "f375b95d",
   "metadata": {
    "scrolled": false
   },
   "outputs": [],
   "source": [
    "# viz 1\n"
   ]
  },
  {
   "cell_type": "markdown",
   "id": "e549f0ce",
   "metadata": {},
   "source": [
    "#### !!!!! takeway q1"
   ]
  },
  {
   "cell_type": "markdown",
   "id": "74c335b1",
   "metadata": {},
   "source": [
    "!!!! HO/HA \n",
    "I will now conduct a T-test to test for **a significant difference between the mean home value of homes with  optional features (such as: garage, fireplace,pool,deck) is greater than the mean home value  of homes with no optional features**\n",
    "\n",
    "* The confidence interval is 95%\n",
    "* Alpha is set to 0.05\n",
    "* p/2 value will be compared to alpha\n",
    "\n",
    "\n",
    "$H_0$: Mean home value of homes with optional featues <= mean home value of homes with no optional features \n",
    "\n",
    "$H_a$: Mean home value of homes with optional featues > mean home value of homes with no optional features "
   ]
  },
  {
   "cell_type": "code",
   "execution_count": 10,
   "id": "5a9ac043",
   "metadata": {
    "scrolled": false
   },
   "outputs": [],
   "source": [
    "# test 1"
   ]
  },
  {
   "cell_type": "markdown",
   "id": "ee25635b",
   "metadata": {},
   "source": [
    "!!!!! stats summary\n",
    "The p-value/2 is less than the alpha. **There is evidence to support that homes that have at least one of the following feature: garage, fireplace, pool,deck on average have a higher home value.** Based on this statistical finding I believe that optional features is a driver of home value.Adding an encoded version of this feature to the model will likely increase the model ability to predict home value."
   ]
  },
  {
   "cell_type": "markdown",
   "id": "0431f87f",
   "metadata": {},
   "source": [
    "# Question 2?\n"
   ]
  },
  {
   "cell_type": "code",
   "execution_count": 11,
   "id": "6aec7f28",
   "metadata": {
    "scrolled": true
   },
   "outputs": [],
   "source": [
    "# viz 2"
   ]
  },
  {
   "cell_type": "markdown",
   "id": "bd18f4cc",
   "metadata": {},
   "source": [
    "#### !!! takeaway q2"
   ]
  },
  {
   "cell_type": "markdown",
   "id": "cda1d4fa",
   "metadata": {},
   "source": [
    " # Question 3?\n",
    "  "
   ]
  },
  {
   "cell_type": "code",
   "execution_count": 12,
   "id": "d6996db5",
   "metadata": {},
   "outputs": [],
   "source": [
    "# viz 3"
   ]
  },
  {
   "cell_type": "markdown",
   "id": "c67dc437",
   "metadata": {},
   "source": [
    "* **take away q3"
   ]
  },
  {
   "cell_type": "markdown",
   "id": "2174084c",
   "metadata": {},
   "source": [
    "!!!!! HO/HA 3\n",
    "**I will now conduct an anova test to test for a significant differences between the mean of the three different counties**\n",
    "\n",
    "* The confidence interval is 95%\n",
    "* Alpha is set to 0.05\n",
    "* p value will be compared to alpha\n",
    "\n",
    "\n",
    "$H_0$: There is  two or more counties that have the same home value mean. \n",
    "\n",
    "$H_a$: Mean home value of the 3 diffirent counties is not the same"
   ]
  },
  {
   "cell_type": "code",
   "execution_count": 13,
   "id": "d582b368",
   "metadata": {
    "scrolled": true
   },
   "outputs": [],
   "source": [
    "# test 3"
   ]
  },
  {
   "cell_type": "markdown",
   "id": "83fba473",
   "metadata": {},
   "source": [
    "!!!! stats summary\n",
    "The p-value is less than alpha. **There is evidence to support that the three counties have diffirent home value mean.** Based on this statistical finding I believe that county location is a driver of home value. Adding an encoded version of this feature to the model will likely improve the model ability to predict home value."
   ]
  },
  {
   "cell_type": "markdown",
   "id": "43f35282",
   "metadata": {},
   "source": [
    "# Q 4?"
   ]
  },
  {
   "cell_type": "code",
   "execution_count": 14,
   "id": "8c954e46",
   "metadata": {
    "scrolled": true
   },
   "outputs": [],
   "source": [
    "# viz 4"
   ]
  },
  {
   "cell_type": "markdown",
   "id": "42b0783f",
   "metadata": {},
   "source": [
    "* **takeway Q4."
   ]
  },
  {
   "cell_type": "markdown",
   "id": "437b56c5",
   "metadata": {},
   "source": [
    "!!! HO/HA\n",
    "**I will now conduct pearsonr test to test for a relationship  between the median home value and home age.**\n",
    "\n",
    "* The confidence interval is 95%\n",
    "* Alpha is set to 0.05\n",
    "* p value will be compared to alpha\n",
    "\n",
    "$H_0$: There is **no linear correlation** between the median home value and home age.\n",
    "\n",
    "$H_a$: There **is a linear relationship** between the median home value and home age\n",
    "\n"
   ]
  },
  {
   "cell_type": "code",
   "execution_count": 15,
   "id": "729529ca",
   "metadata": {},
   "outputs": [],
   "source": [
    "# stats 4"
   ]
  },
  {
   "cell_type": "markdown",
   "id": "33de601e",
   "metadata": {},
   "source": [
    "!!! Summary 4\n",
    "The p-value is less than alpha. There is **evidence to support that there is a relationship between home value and home age.** While it is a weak-negative relatiohsip I believe that adding it to my model will help improve the models ability to predict."
   ]
  },
  {
   "cell_type": "markdown",
   "id": "0babf409",
   "metadata": {},
   "source": [
    "# Exploration Summary"
   ]
  },
  {
   "cell_type": "markdown",
   "id": "f0f0c472",
   "metadata": {},
   "source": [
    "* \n",
    "* \n",
    "* \n",
    "* "
   ]
  },
  {
   "cell_type": "markdown",
   "id": "b91df37d",
   "metadata": {},
   "source": [
    "# Features that will be included in my model"
   ]
  },
  {
   "cell_type": "markdown",
   "id": "014f864c",
   "metadata": {},
   "source": [
    "* All features ...\n",
    "* **\n",
    "* **\n",
    "* *\n",
    "* **\n"
   ]
  },
  {
   "cell_type": "markdown",
   "id": "293fa781",
   "metadata": {},
   "source": [
    "# Features that will be not included in my model"
   ]
  },
  {
   "cell_type": "markdown",
   "id": "d20728ae",
   "metadata": {},
   "source": [
    "* **y..."
   ]
  },
  {
   "cell_type": "markdown",
   "id": "7adb7a1e",
   "metadata": {},
   "source": [
    "# !!! needs to be updated Modeling:"
   ]
  },
  {
   "cell_type": "markdown",
   "id": "c4064826",
   "metadata": {},
   "source": [
    "* Since the  Home Value is not normaly distributed I will use **median as a baseline** set at $340,572.\n",
    "\n",
    "* $R^2$ is the primary metric I will use to evaluate models and secondary will be a favorable $RMSE$. \n",
    "* $R^2$ helps understand how well the model fits the data.\n",
    "\n",
    "* I will evaluate the following top models on train and validate:\n",
    "        * Polynomial Regression degree 2\n",
    "        * Polynomial Regression degree 2 with interactions only\n",
    "        * Polynomial Regression degree 3\n",
    "        * Polynomial Regression degree 4\n",
    "* The model that performs the best on validate data will be run with test data."
   ]
  },
  {
   "cell_type": "code",
   "execution_count": 16,
   "id": "fc1ac087",
   "metadata": {
    "scrolled": true
   },
   "outputs": [
    {
     "ename": "NameError",
     "evalue": "name 'm' is not defined",
     "output_type": "error",
     "traceback": [
      "\u001b[0;31m---------------------------------------------------------------------------\u001b[0m",
      "\u001b[0;31mNameError\u001b[0m                                 Traceback (most recent call last)",
      "Input \u001b[0;32mIn [16]\u001b[0m, in \u001b[0;36m<cell line: 2>\u001b[0;34m()\u001b[0m\n\u001b[1;32m      1\u001b[0m \u001b[38;5;66;03m# prepare data for modeling\u001b[39;00m\n\u001b[0;32m----> 2\u001b[0m X_train, y_train, X_validate, y_validate, X_test, y_test \u001b[38;5;241m=\u001b[39m \u001b[43mm\u001b[49m\u001b[38;5;241m.\u001b[39mmodel_data_prep(train, validate, test)\n",
      "\u001b[0;31mNameError\u001b[0m: name 'm' is not defined"
     ]
    }
   ],
   "source": [
    "# prepare data for modeling\n",
    "X_train, y_train, X_validate, y_validate, X_test, y_test = m.model_data_prep(train, validate, test)"
   ]
  },
  {
   "cell_type": "code",
   "execution_count": null,
   "id": "3249b889",
   "metadata": {},
   "outputs": [],
   "source": [
    "# run predictions on train data for models\n",
    "train_pred, validate_pred, test_pred = m.predictions(X_train,y_train,X_validate,y_validate,X_test, y_test)\n",
    "\n"
   ]
  },
  {
   "cell_type": "markdown",
   "id": "c07aaeb2",
   "metadata": {},
   "source": [
    "# Comparing Top Models on train and Validate "
   ]
  },
  {
   "cell_type": "markdown",
   "id": "6dc23063",
   "metadata": {},
   "source": [
    "### * Baseline Median Home Value                                                            $340,572"
   ]
  },
  {
   "cell_type": "code",
   "execution_count": null,
   "id": "9474765f",
   "metadata": {
    "scrolled": false
   },
   "outputs": [],
   "source": [
    "m.metrics(train_pred,y_train, validate_pred, y_validate)\n"
   ]
  },
  {
   "cell_type": "markdown",
   "id": "81ab9a2d",
   "metadata": {},
   "source": [
    "All models outperformed median baseline in terms of RMSE in both train and validate data.\n",
    "\n",
    "Polynomial Regressor degree 4 did best in train data in both RMSE and $R^2$\n",
    "\n",
    "The model with the best $R^2$ and RMSE in validate data is Polynomial Regressor degree 3."
   ]
  },
  {
   "cell_type": "markdown",
   "id": "575a6c3d",
   "metadata": {},
   "source": [
    "**I will select model Polynomial Regressor degree 3 since it has the highest R2 and a least RMSE to other models on validate**"
   ]
  },
  {
   "cell_type": "markdown",
   "id": "eb4dc015",
   "metadata": {},
   "source": [
    "# Model on Test data"
   ]
  },
  {
   "cell_type": "code",
   "execution_count": null,
   "id": "60e4cac9",
   "metadata": {
    "scrolled": false
   },
   "outputs": [],
   "source": [
    "# get metrics on Final Model\n",
    "m.metric_test(test_pred[['poly_d3','baseline_median']],y_test)"
   ]
  },
  {
   "cell_type": "markdown",
   "id": "7a3f2e74",
   "metadata": {},
   "source": [
    "## Modeling Summary"
   ]
  },
  {
   "cell_type": "markdown",
   "id": "c40cc762",
   "metadata": {},
   "source": [
    "* All models performed better than the baseline\n",
    "* The Final Model Polynomial Regressor degree 3 had an $R^2$ or .37 on test data and had a better RMSE than baseline by $73,639."
   ]
  },
  {
   "cell_type": "code",
   "execution_count": null,
   "id": "0213e1f8",
   "metadata": {},
   "outputs": [],
   "source": [
    "e.distribution_top_model(y_test, test_pred)   \n"
   ]
  },
  {
   "cell_type": "markdown",
   "id": "f896f6c0",
   "metadata": {},
   "source": [
    "# Conclusion"
   ]
  },
  {
   "cell_type": "markdown",
   "id": "fcbf80fc",
   "metadata": {},
   "source": [
    "## Exploration\n",
    "\n"
   ]
  },
  {
   "cell_type": "markdown",
   "id": "8fbf3a1f",
   "metadata": {},
   "source": [
    "* Homes with an optional feature such as deck, pools, garage, fireplace have more value.\n",
    "* Home with more bedrooms and bathrooms tend to have more value on average.\n",
    "* County location make a difference in home value.\n",
    "* Home age has a relationship with home value."
   ]
  },
  {
   "cell_type": "markdown",
   "id": "058105b7",
   "metadata": {},
   "source": [
    "## Modeling"
   ]
  },
  {
   "cell_type": "markdown",
   "id": "ed93530a",
   "metadata": {},
   "source": [
    "**The final model has an $R^2$ of 0.37 and performed  better than the median baseline by $ 73,639 RMSE** \n"
   ]
  },
  {
   "cell_type": "markdown",
   "id": "c1a19a11",
   "metadata": {},
   "source": [
    "## Recommendations"
   ]
  },
  {
   "cell_type": "markdown",
   "id": "7030b4ae",
   "metadata": {},
   "source": [
    "* Standardize methods of data collection to increase data accuracy; this will likely improve models ability to predict future home values."
   ]
  },
  {
   "cell_type": "markdown",
   "id": "14228d48",
   "metadata": {},
   "source": [
    "## Next Steps"
   ]
  },
  {
   "cell_type": "markdown",
   "id": "8550784b",
   "metadata": {},
   "source": [
    "* Look into locations of homes with information about neighborhoods and/or longitute and latitute to explore relationships between location and home value.\n",
    "* Explore if lot size has and influence on home value.\n"
   ]
  }
 ],
 "metadata": {
  "kernelspec": {
   "display_name": "Python 3 (ipykernel)",
   "language": "python",
   "name": "python3"
  },
  "language_info": {
   "codemirror_mode": {
    "name": "ipython",
    "version": 3
   },
   "file_extension": ".py",
   "mimetype": "text/x-python",
   "name": "python",
   "nbconvert_exporter": "python",
   "pygments_lexer": "ipython3",
   "version": "3.9.12"
  }
 },
 "nbformat": 4,
 "nbformat_minor": 5
}
