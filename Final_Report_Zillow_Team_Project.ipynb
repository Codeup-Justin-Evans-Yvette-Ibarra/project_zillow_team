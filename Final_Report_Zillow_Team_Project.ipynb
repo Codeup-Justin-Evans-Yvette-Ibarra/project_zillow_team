{
 "cells": [
  {
   "cell_type": "markdown",
   "id": "11bba3ec",
   "metadata": {},
   "source": [
    "# $Final$ $Report$ $Zillow$ $Team$ $Project$"
   ]
  },
  {
   "cell_type": "markdown",
   "id": "f137d882",
   "metadata": {},
   "source": [
    "# Group 4\n",
    "* Justin Evans\n",
    "* Yvette Ibarra\n",
    "\n",
    "# Project Overview:\n",
    "This project has been tasked with collecting, cleaning and analyzing Zillow data from 2017 in order to improve a previous prediction model that was designed to predict the Tax Assessed Home Value for Single Family Properties based on available realestate data.\n",
    "\n",
    "# Goals: \n",
    "* Discover key attributes that drive error in Zestimate logerror.\n",
    "* Use those attributes to develop a machine learning model to predict logerror.\n",
    "\n",
    "# Reproduction of this Data:\n",
    "* Can be accomplished using a local ```env.py``` containing ```user, password, host``` information for access to the Codeup SQL database server.\n",
    "* All other step by step instructions can be found by reading the below Jupyter Notebook files located in our [Codeup-Justin-Evans-Yvette-Ibarra](https://github.com/Codeup-Justin-Evans-Yvette-Ibarra/project_zillow_team.git) github repository.\n",
    "    * Final_Report_Zillow_Team_Project.ipynb\n",
    "    * wrangle.py"
   ]
  },
  {
   "cell_type": "markdown",
   "id": "eaeb77fb",
   "metadata": {},
   "source": [
    "# Imports"
   ]
  },
  {
   "cell_type": "code",
   "execution_count": 1,
   "id": "f6e1acc7",
   "metadata": {},
   "outputs": [],
   "source": [
    "import pandas as pd\n",
    "import numpy as np\n",
    "\n",
    "import seaborn as sns\n",
    "import matplotlib.pyplot as plt\n",
    "# Increases Display Resolution for Graphs \n",
    "# Only works inside notebook\n",
    "%matplotlib inline \n",
    "\n",
    "# Turns off warnings\n",
    "import warnings\n",
    "warnings.filterwarnings(\"ignore\")\n",
    "\n",
    "# Left Align Tables in Jupyter Notebook\n",
    "from IPython.core.display import HTML\n",
    "table_css = 'table {align:left;display:block}'\n",
    "HTML('<style>{}</style>'.format(table_css))\n",
    "\n",
    "from scipy import stats\n",
    "\n",
    "import wrangle as w\n",
    "import model as m\n",
    "import explore as e"
   ]
  },
  {
   "cell_type": "markdown",
   "id": "d47e63fd",
   "metadata": {},
   "source": [
    "# Acquire:\n",
    "\n",
    "<div class=\"alert alert-success\">\n",
    "\n",
    "* Data acquire from Codeup Database 11/17/22\n",
    "* It contained  52319 rows and 68 columns before cleaning\n",
    "* Each row represents a single family household:\n",
    "    * properties from 2017 with current transactions\n",
    "    * located in the Californian counties of 'Los Angeles' or 'Orange'or 'Ventura'\n",
    "* Each column represents a feature related to the single family residential."
   ]
  },
  {
   "cell_type": "code",
   "execution_count": 2,
   "id": "5f4a18a2",
   "metadata": {
    "scrolled": false
   },
   "outputs": [],
   "source": [
    "# acquire telco data \n",
    "df = w.get_zillow_data()"
   ]
  },
  {
   "cell_type": "markdown",
   "id": "b78a7893",
   "metadata": {},
   "source": [
    "# Prepare:\n",
    "<div class=\"alert alert-success\">\n",
    "\n",
    "\n",
    "prepare actions:\n",
    "* After the follwing steps we retained 95.9% of original data:\n",
    "    * Outliers were removed\n",
    "    (to better fit the definition of Single Family Property):\n",
    "    \n",
    "        * Beds above 8 \n",
    "        * Baths above 8 \n",
    "        * Home values above 2_000_000\n",
    "        * Rows with 0 beds and/or 0 baths \n",
    "        \n",
    "    * For the following features it was assumed null values meant the structure did not exist on property:\n",
    "        * has_fireplace (45096)\n",
    "        * has_deck (51930)\n",
    "        * has_pool (41242)\n",
    "        * has_garage (34335)\n",
    "        * has_taxdelinquency(50251)\n",
    "\n",
    "* Columns with less than 50_000 values and columns with no pertenant value were dropped:\n",
    "     * totaling 34 columns\n",
    " \n",
    "* Feature engineer \n",
    "     * 'age' is a feature created by subracting yearbulit from 2017\n",
    "     * 'optional_features' is a feature created by stating a 1 if aproperty has a fireplace, garage, pool or deck and 0 if none is present.\n",
    "     * clusters:\n",
    "        * loc_clusters - Created using 'longitude', 'latitude', 'age' with n_clusters = 4|\n",
    "        * cluster_price_size - Created using 'taxamount', 'sqft', 'lot_sqft' with n_clusters = 4|\n",
    "        * cluster_delinquency_value - Created using ‘tax_value’, ‘sqft’,‘has_taxdelinquency’ with n_clusters = 4\n",
    "        \n",
    "* Encoded categorical variables\n",
    "\n",
    "* Split data into train, validate and test \n",
    "    * Approximately: train 56%, validate 24%, test 20%\n",
    "  \n"
   ]
  },
  {
   "cell_type": "code",
   "execution_count": 3,
   "id": "f58139b3",
   "metadata": {
    "scrolled": true
   },
   "outputs": [],
   "source": [
    "# prepare data \n",
    "df = w.zillow_prep(df)"
   ]
  },
  {
   "cell_type": "markdown",
   "id": "711f0d4b",
   "metadata": {},
   "source": [
    "<div class=\"alert alert-info\">\n",
    "\n",
    "    \n",
    "# Summary of Data Cleansing\n",
    "* Cleaning the data resulted in less than 6% overall record loss\n",
    "</div>"
   ]
  },
  {
   "cell_type": "markdown",
   "id": "1ac4bc79",
   "metadata": {},
   "source": [
    "<div class=\"alert alert-warning\">\n",
    "    \n",
    "* <b>DROP NaN COLUMNS:</b> 39 features each containing over 30% NaN were dropped; <b>resulting in no record loss</b>.\n",
    "  \n",
    "* <b>DROP NaN ROWS:</b> 1,768 records containing NaN across 13 features were dropped; <b>resulting in only 3% record loss</b>.\n",
    "\n",
    "* <b>OUTLIERS:</b> Aproximately 3,000 outliers were filtered out in an attempt to more accurately align with realistic expectations of a Single Family Residence; <b>resulting in less than a 6% decrease in overall records</b>.\n",
    "\n",
    "* <b>IMPUTE:</b> No data was imputed</div>"
   ]
  },
  {
   "cell_type": "markdown",
   "id": "17ee2a59",
   "metadata": {},
   "source": [
    "# Split:\n",
    "<div class=\"alert alert-success\">\n",
    "\n",
    "* 56/24/20"
   ]
  },
  {
   "cell_type": "code",
   "execution_count": 4,
   "id": "55ead39e",
   "metadata": {},
   "outputs": [
    {
     "name": "stdout",
     "output_type": "stream",
     "text": [
      "Prepared df: (50293, 35)\n",
      "\n",
      "      Train: (28163, 35) - 56.00000000000001%\n",
      "   Validate: (12071, 35) - 24.0%\n",
      "       Test: (10059, 35) - 20.0%\n"
     ]
    }
   ],
   "source": [
    "# split data: train, validate and test\n",
    "train, validate, test = w.split(df)\n",
    "# show stats of split\n",
    "e.split_stats(df, train, validate, test)"
   ]
  },
  {
   "cell_type": "markdown",
   "id": "1afde269",
   "metadata": {},
   "source": [
    "# Cluster:\n",
    "<div class=\"alert alert-success\">"
   ]
  },
  {
   "cell_type": "code",
   "execution_count": 5,
   "id": "394effe5",
   "metadata": {},
   "outputs": [],
   "source": [
    "# create clusters\n",
    "train, test, validate, train_scaled, validate_scaled, test_scaled = m.create_cluster('loc_clusters', train,validate, test,['longitude', 'latitude','age'],5)\n",
    "train, test, validate, train_scaled, validate_scaled, test_scaled = m.create_cluster('cluster_price_size', train,validate, test,['taxamount', 'sqft', 'lot_sqft'],4)\n",
    "train, test, validate, train_scaled, validate_scaled, test_scaled = m.create_cluster('cluster_delinquency_value', train,validate, test,['tax_value', 'sqft', 'lot_sqft', 'has_taxdelinquency'],4)"
   ]
  },
  {
   "cell_type": "markdown",
   "id": "f60b19a0",
   "metadata": {},
   "source": [
    "# Data Dictionary:\n",
    "\n",
    "<div class=\"alert alert-success\">\n",
    "\n",
    "    \n",
    "## Continuous Categorical Counts\n",
    "|Feature    |Description|\n",
    "|:----------|:-----------------|\n",
    "|parcelid|| \n",
    "|bedrooms|Number of bedrooms in home|\n",
    "|bathrooms|Number of bathrooms in home including fractional bathrooms| \n",
    "|calculatedbathnbr|| \n",
    "|fullbathcnt||\n",
    "|age|The age of the home in 2017| \n",
    "|yearbuilt|The Year the principal residence was built| \n",
    "\n",
    "## Categorical Binary\n",
    "|Feature    |Description           |\n",
    "|:----------|:-----------------|\n",
    "|has_basement|Basement on property (if any = 1)| \n",
    "|has_deck|Deck on property (if any = 1)| \n",
    "|has_fireplace|Fireplace on property (if any = 1)| \n",
    "|has_garage|Garage on property (if any = 1)| \n",
    "|has_hottuborspa|Hot Tub or Spa on property (if any = 1)| \n",
    "|has_pool|Pool on property (if any = 1)| \n",
    "|optional_features|Property has at least one optional feature listed above (if any = 1)| \n",
    "|has_tax_delinquency|Property has had Tax Delinquncy (if any = 1)| \n",
    "\n",
    "## Location\n",
    "|Feature    |Description    |\n",
    "|:----------|:-----------------|\n",
    "|fips||\n",
    "|state|| \n",
    "|county|FIPS code for californian counties: 6111 Ventura County, 6059  Orange County, 6037 Los Angeles County|\n",
    "|la_county|| \n",
    "|orange_county|| \n",
    "|ventura_county|\n",
    "|longitude|| \n",
    "|latitude||\n",
    "|zipcode|| \n",
    "|regionidcounty|| \n",
    "|rawcensustractandblock|| \n",
    "|censustractandblock|| \n",
    "\n",
    "## Size\n",
    "|Feature    |Description           |\n",
    "|:----------|:-----------------|\n",
    "|sqft|Calculated total finished living area of the home|\n",
    "|lotsizesquarefeet|| \n",
    "\n",
    "## Value\n",
    "|Feature    |Description           |\n",
    "|:----------|:-----------------|\n",
    "|tax_value_bldg|The total tax assessed value of the structure|\n",
    "|tax_value|The total tax assessed value of the parcel| \n",
    "|tax_value_land|The total tax assessed value of the land|\n",
    "|taxamount|The total tax fee to be collected on the parcel| \n",
    "\n",
    "## Target\n",
    "|Feature    |Description           |\n",
    "|:----------|:-----------------|\n",
    "|log_error|This is the logerror of the Zillow Zestimate|\n",
    "\n",
    "## Clusters\n",
    "|Feature    |Description          |\n",
    "|:----------|:-----------------|\n",
    "|loc_clusters|Created using 'longitude', 'latitude', 'age' with n_clusters = 4|\n",
    "|cluster_price_size|Created using 'taxamount', 'sqft', 'lot_sqft' with n_clusters = 4|\n",
    "|cluster_delinquency_value|Created using ‘tax_value’, ‘sqft’,‘has_taxdelinquency’ with n_clusters = 4|"
   ]
  },
  {
   "cell_type": "markdown",
   "id": "1500c993",
   "metadata": {},
   "source": [
    "## Peek at the data:"
   ]
  },
  {
   "cell_type": "code",
   "execution_count": 6,
   "id": "46ee4353",
   "metadata": {
    "scrolled": true
   },
   "outputs": [
    {
     "data": {
      "text/html": [
       "<div>\n",
       "<style scoped>\n",
       "    .dataframe tbody tr th:only-of-type {\n",
       "        vertical-align: middle;\n",
       "    }\n",
       "\n",
       "    .dataframe tbody tr th {\n",
       "        vertical-align: top;\n",
       "    }\n",
       "\n",
       "    .dataframe thead th {\n",
       "        text-align: right;\n",
       "    }\n",
       "</style>\n",
       "<table border=\"1\" class=\"dataframe\">\n",
       "  <thead>\n",
       "    <tr style=\"text-align: right;\">\n",
       "      <th></th>\n",
       "      <th>parcelid</th>\n",
       "      <th>bedrooms</th>\n",
       "      <th>bathrooms</th>\n",
       "      <th>calculatedbathnbr</th>\n",
       "      <th>fullbathcnt</th>\n",
       "      <th>age</th>\n",
       "      <th>yearbuilt</th>\n",
       "      <th>has_basement</th>\n",
       "      <th>has_deck</th>\n",
       "      <th>has_fireplace</th>\n",
       "      <th>...</th>\n",
       "      <th>cluster_price_size</th>\n",
       "      <th>cluster_price_size_0</th>\n",
       "      <th>cluster_price_size_1</th>\n",
       "      <th>cluster_price_size_2</th>\n",
       "      <th>cluster_price_size_3</th>\n",
       "      <th>cluster_delinquency_value</th>\n",
       "      <th>cluster_delinquency_value_0</th>\n",
       "      <th>cluster_delinquency_value_1</th>\n",
       "      <th>cluster_delinquency_value_2</th>\n",
       "      <th>cluster_delinquency_value_3</th>\n",
       "    </tr>\n",
       "  </thead>\n",
       "  <tbody>\n",
       "    <tr>\n",
       "      <th>11303</th>\n",
       "      <td>14498262</td>\n",
       "      <td>4.0</td>\n",
       "      <td>2.5</td>\n",
       "      <td>2.5</td>\n",
       "      <td>2.0</td>\n",
       "      <td>27.0</td>\n",
       "      <td>1990.0</td>\n",
       "      <td>0</td>\n",
       "      <td>0</td>\n",
       "      <td>0</td>\n",
       "      <td>...</td>\n",
       "      <td>0</td>\n",
       "      <td>1</td>\n",
       "      <td>0</td>\n",
       "      <td>0</td>\n",
       "      <td>0</td>\n",
       "      <td>2</td>\n",
       "      <td>0</td>\n",
       "      <td>0</td>\n",
       "      <td>1</td>\n",
       "      <td>0</td>\n",
       "    </tr>\n",
       "    <tr>\n",
       "      <th>26458</th>\n",
       "      <td>12851739</td>\n",
       "      <td>3.0</td>\n",
       "      <td>2.0</td>\n",
       "      <td>2.0</td>\n",
       "      <td>2.0</td>\n",
       "      <td>55.0</td>\n",
       "      <td>1962.0</td>\n",
       "      <td>0</td>\n",
       "      <td>0</td>\n",
       "      <td>0</td>\n",
       "      <td>...</td>\n",
       "      <td>3</td>\n",
       "      <td>0</td>\n",
       "      <td>0</td>\n",
       "      <td>0</td>\n",
       "      <td>1</td>\n",
       "      <td>0</td>\n",
       "      <td>1</td>\n",
       "      <td>0</td>\n",
       "      <td>0</td>\n",
       "      <td>0</td>\n",
       "    </tr>\n",
       "    <tr>\n",
       "      <th>28486</th>\n",
       "      <td>11276661</td>\n",
       "      <td>4.0</td>\n",
       "      <td>2.0</td>\n",
       "      <td>2.0</td>\n",
       "      <td>2.0</td>\n",
       "      <td>24.0</td>\n",
       "      <td>1993.0</td>\n",
       "      <td>0</td>\n",
       "      <td>0</td>\n",
       "      <td>0</td>\n",
       "      <td>...</td>\n",
       "      <td>3</td>\n",
       "      <td>0</td>\n",
       "      <td>0</td>\n",
       "      <td>0</td>\n",
       "      <td>1</td>\n",
       "      <td>0</td>\n",
       "      <td>1</td>\n",
       "      <td>0</td>\n",
       "      <td>0</td>\n",
       "      <td>0</td>\n",
       "    </tr>\n",
       "  </tbody>\n",
       "</table>\n",
       "<p>3 rows × 51 columns</p>\n",
       "</div>"
      ],
      "text/plain": [
       "       parcelid  bedrooms  bathrooms  calculatedbathnbr  fullbathcnt   age  \\\n",
       "11303  14498262       4.0        2.5                2.5          2.0  27.0   \n",
       "26458  12851739       3.0        2.0                2.0          2.0  55.0   \n",
       "28486  11276661       4.0        2.0                2.0          2.0  24.0   \n",
       "\n",
       "       yearbuilt  has_basement  has_deck  has_fireplace  ...  \\\n",
       "11303     1990.0             0         0              0  ...   \n",
       "26458     1962.0             0         0              0  ...   \n",
       "28486     1993.0             0         0              0  ...   \n",
       "\n",
       "       cluster_price_size  cluster_price_size_0  cluster_price_size_1  \\\n",
       "11303                   0                     1                     0   \n",
       "26458                   3                     0                     0   \n",
       "28486                   3                     0                     0   \n",
       "\n",
       "       cluster_price_size_2  cluster_price_size_3  cluster_delinquency_value  \\\n",
       "11303                     0                     0                          2   \n",
       "26458                     0                     1                          0   \n",
       "28486                     0                     1                          0   \n",
       "\n",
       "      cluster_delinquency_value_0 cluster_delinquency_value_1  \\\n",
       "11303                           0                           0   \n",
       "26458                           1                           0   \n",
       "28486                           1                           0   \n",
       "\n",
       "       cluster_delinquency_value_2  cluster_delinquency_value_3  \n",
       "11303                            1                            0  \n",
       "26458                            0                            0  \n",
       "28486                            0                            0  \n",
       "\n",
       "[3 rows x 51 columns]"
      ]
     },
     "execution_count": 6,
     "metadata": {},
     "output_type": "execute_result"
    }
   ],
   "source": [
    "train.head(3)"
   ]
  },
  {
   "cell_type": "markdown",
   "id": "03e989b5",
   "metadata": {},
   "source": [
    "# Exploration:\n",
    "<div class=\"alert alert-success\">\n",
    " \n",
    "* Words\n",
    "* Words\n"
   ]
  },
  {
   "cell_type": "markdown",
   "id": "67038283",
   "metadata": {},
   "source": [
    "<div class=\"alert alert-warning\">\n",
    "\n",
    "\n",
    "# Question 1:\n",
    "## Is there a relationship between longitude and logerror?"
   ]
  },
  {
   "cell_type": "code",
   "execution_count": 7,
   "id": "f375b95d",
   "metadata": {
    "scrolled": false
   },
   "outputs": [
    {
     "data": {
      "image/png": "[encoded data removed]",
      "text/plain": [
       "<Figure size 360x360 with 1 Axes>"
      ]
     },
     "metadata": {
      "needs_background": "light"
     },
     "output_type": "display_data"
    }
   ],
   "source": [
    "e.Q1_viz_1(train)"
   ]
  },
  {
   "cell_type": "markdown",
   "id": "cb065cca",
   "metadata": {},
   "source": [
    "#### VIZ Analysis\n",
    "* Words\n",
    "* Words"
   ]
  },
  {
   "cell_type": "markdown",
   "id": "74c335b1",
   "metadata": {},
   "source": [
    "* $H_{0}$: The number of Bathrooms **is NOT dependent** on the number of Bedrooms.  \n",
    "* $H_{a}$: The number of Bathrooms **is dependent** on the number of Bedrooms.\n",
    "\n",
    "\n",
    "* The confidence interval is 95%\n",
    "* Alpha is set to 0.05\n",
    "* p/2 value will be compared to alpha\n",
    "\n",
    "\n",
    "* Two_Tail, Two_Sample\n",
    "* Continuous (bedroomcnt) vs Continuous (bathroomcnt) = **Pearson’s R**."
   ]
  },
  {
   "cell_type": "code",
   "execution_count": 8,
   "id": "5a9ac043",
   "metadata": {
    "scrolled": false
   },
   "outputs": [
    {
     "name": "stdout",
     "output_type": "stream",
     "text": [
      "Reject the null hypothesis\n"
     ]
    },
    {
     "data": {
      "text/plain": [
       "(0.026252048697670314, 1.0522927492435017e-05)"
      ]
     },
     "execution_count": 8,
     "metadata": {},
     "output_type": "execute_result"
    }
   ],
   "source": [
    "e.pearson_r(train, 'longitude', 'log_error')"
   ]
  },
  {
   "cell_type": "markdown",
   "id": "ee25635b",
   "metadata": {},
   "source": [
    "<div class=\"alert alert-info\">\n",
    "\n",
    "### Q-1 Findings\n",
    "\n",
    "* The p-value/2 is less than the alpha. \n",
    "    \n",
    "## YES\n",
    "There is a significant ```relationship``` between longitude and log_error  \n",
    "    \n",
    "**There is evidence to support that homes that have at least one of the following feature: garage, fireplace, pool,deck on average have a higher home value.**  \n",
    "    \n",
    "* Based on this statistical finding I believe that optional features is a driver of home value.Adding an encoded version of this feature to the model will likely increase the model ability to predict home value."
   ]
  },
  {
   "cell_type": "markdown",
   "id": "28a31e2b",
   "metadata": {},
   "source": [
    "<div class=\"alert alert-warning\">\n",
    "\n",
    "\n",
    " ## Q-1\n",
    "## Is there a relationship between latitude and logerror??"
   ]
  },
  {
   "cell_type": "code",
   "execution_count": 9,
   "id": "c4034885",
   "metadata": {
    "scrolled": false
   },
   "outputs": [
    {
     "data": {
      "image/png": "[encoded data removed]",
      "text/plain": [
       "<Figure size 360x360 with 1 Axes>"
      ]
     },
     "metadata": {
      "needs_background": "light"
     },
     "output_type": "display_data"
    }
   ],
   "source": [
    "e.Q1_viz_2(train)"
   ]
  },
  {
   "cell_type": "markdown",
   "id": "3d0258f0",
   "metadata": {},
   "source": [
    "#### VIZ Analysis\n",
    "* Words\n",
    "* Words"
   ]
  },
  {
   "cell_type": "markdown",
   "id": "53e68e6b",
   "metadata": {},
   "source": [
    "* $H_{0}$: The number of Bathrooms **is NOT dependent** on the number of Bedrooms.  \n",
    "* $H_{a}$: The number of Bathrooms **is dependent** on the number of Bedrooms.\n",
    "\n",
    "\n",
    "* The confidence interval is 95%\n",
    "* Alpha is set to 0.05\n",
    "* p/2 value will be compared to alpha\n",
    "\n",
    "\n",
    "* Two_Tail, Two_Sample\n",
    "* Continuous (bedroomcnt) vs Continuous (bathroomcnt) = **Pearson’s R**."
   ]
  },
  {
   "cell_type": "code",
   "execution_count": 10,
   "id": "2bdf39b9",
   "metadata": {
    "scrolled": false
   },
   "outputs": [
    {
     "name": "stdout",
     "output_type": "stream",
     "text": [
      "Reject the null hypothesis\n"
     ]
    },
    {
     "data": {
      "text/plain": [
       "(-0.01616779019608714, 0.006661498999092204)"
      ]
     },
     "execution_count": 10,
     "metadata": {},
     "output_type": "execute_result"
    }
   ],
   "source": [
    "e.pearson_r(train, 'latitude', 'log_error')"
   ]
  },
  {
   "cell_type": "markdown",
   "id": "f677f8da",
   "metadata": {},
   "source": [
    "<div class=\"alert alert-info\">\n",
    "\n",
    "# Q-1 Findings\n",
    "\n",
    "* The p-value/2 is less than the alpha. \n",
    "\n",
    "## YES\n",
    "There is a significant ```relationship``` between latitude and log_error      \n",
    "    \n",
    "**There is evidence to support that homes that have at least one of the following feature: garage, fireplace, pool,deck on average have a higher home value.**  \n",
    "    \n",
    "* Based on this statistical finding I believe that optional features is a driver of home value.Adding an encoded version of this feature to the model will likely increase the model ability to predict home value."
   ]
  },
  {
   "cell_type": "markdown",
   "id": "f4aae463",
   "metadata": {},
   "source": [
    "<div class=\"alert alert-warning\">\n",
    "\n",
    "\n",
    "## Question 2:\n",
    "## Is there a relationship between loc_clusters and logerror?"
   ]
  },
  {
   "cell_type": "code",
   "execution_count": 11,
   "id": "27880057",
   "metadata": {
    "scrolled": false
   },
   "outputs": [
    {
     "data": {
      "image/png": "[encoded data removed]",
      "text/plain": [
       "<Figure size 432x288 with 1 Axes>"
      ]
     },
     "metadata": {
      "needs_background": "light"
     },
     "output_type": "display_data"
    }
   ],
   "source": [
    "e.Q2_viz_1(train)"
   ]
  },
  {
   "cell_type": "markdown",
   "id": "924599e1",
   "metadata": {},
   "source": [
    "#### VIZ Analysis\n",
    "* Words\n",
    "* Words"
   ]
  },
  {
   "cell_type": "markdown",
   "id": "98eccfb8",
   "metadata": {},
   "source": [
    "* $H_{0}$: The number of Bathrooms **is NOT dependent** on the number of Bedrooms.  \n",
    "* $H_{a}$: The number of Bathrooms **is dependent** on the number of Bedrooms.\n",
    "\n",
    "\n",
    "* The confidence interval is 95%\n",
    "* Alpha is set to 0.05\n",
    "* p/2 value will be compared to alpha\n",
    "\n",
    "\n",
    "* Two_Tail, Two_Sample\n",
    "* Continuous (bedroomcnt) vs Continuous (bathroomcnt) = **Pearson’s R**."
   ]
  },
  {
   "cell_type": "code",
   "execution_count": 12,
   "id": "bb53c331",
   "metadata": {
    "scrolled": false
   },
   "outputs": [
    {
     "name": "stdout",
     "output_type": "stream",
     "text": [
      "Reject the null hypothesis\n"
     ]
    },
    {
     "data": {
      "text/plain": [
       "(0.015830514745243083, 0.007890975264117776)"
      ]
     },
     "execution_count": 12,
     "metadata": {},
     "output_type": "execute_result"
    }
   ],
   "source": [
    "e.pearson_r(train, 'loc_clusters', 'log_error')"
   ]
  },
  {
   "cell_type": "markdown",
   "id": "458dab7c",
   "metadata": {},
   "source": [
    "<div class=\"alert alert-info\">\n",
    "\n",
    "# Q-2 Findings\n",
    "\n",
    "* The p-value/2 is less than the alpha. \n",
    "    \n",
    "## YES\n",
    "There is a significant ```relationship``` between loc_clusters and log_error  \n",
    "    \n",
    "    \n",
    "**There is evidence to support that homes that have at least one of the following feature: garage, fireplace, pool,deck on average have a higher home value.**  \n",
    "    \n",
    "* Based on this statistical finding I believe that optional features is a driver of home value.Adding an encoded version of this feature to the model will likely increase the model ability to predict home value."
   ]
  },
  {
   "cell_type": "markdown",
   "id": "b5d6deb5",
   "metadata": {},
   "source": [
    "<div class=\"alert alert-warning\">\n",
    "\n",
    "\n",
    "## Q-2\n",
    "## Is there a relationship between loc_clusters_0 and logerror?"
   ]
  },
  {
   "cell_type": "code",
   "execution_count": 13,
   "id": "89e4d71c",
   "metadata": {
    "scrolled": false
   },
   "outputs": [
    {
     "data": {
      "image/png": "[encoded data removed]",
      "text/plain": [
       "<Figure size 432x288 with 1 Axes>"
      ]
     },
     "metadata": {
      "needs_background": "light"
     },
     "output_type": "display_data"
    }
   ],
   "source": [
    "e.Q2_viz_2(train)"
   ]
  },
  {
   "cell_type": "markdown",
   "id": "6711a62d",
   "metadata": {},
   "source": [
    "#### VIZ Analysis\n",
    "* Words\n",
    "* Words"
   ]
  },
  {
   "cell_type": "markdown",
   "id": "e794a936",
   "metadata": {},
   "source": [
    "* $H_{0}$: The number of Bathrooms **is NOT dependent** on the number of Bedrooms.  \n",
    "* $H_{a}$: The number of Bathrooms **is dependent** on the number of Bedrooms.\n",
    "\n",
    "\n",
    "* The confidence interval is 95%\n",
    "* Alpha is set to 0.05\n",
    "* p/2 value will be compared to alpha\n",
    "\n",
    "\n",
    "* Two_Tail, Two_Sample\n",
    "* Continuous (bedroomcnt) vs Continuous (bathroomcnt) = **Pearson’s R**."
   ]
  },
  {
   "cell_type": "markdown",
   "id": "0d041573",
   "metadata": {
    "scrolled": false
   },
   "source": [
    "from scipy import stats\n",
    "\n",
    "def kruskal_test(df):\n",
    "    alpha = 0.05\n",
    "\n",
    "    group_list = [df[df.loc_clusters == x].log_error.to_numpy() for x in range(5)]\n",
    "    t,p_val = stats.kruskal(group_list[0],group_list[1],group_list[2],group_list[3],group_list[4])\n",
    "    \n",
    "    if p_val < alpha:\n",
    "        print('Reject the null hypothesis')\n",
    "    else:\n",
    "        print('Fail to reject the null hypothesis')\n",
    "    \n",
    "    return t,p"
   ]
  },
  {
   "cell_type": "code",
   "execution_count": 14,
   "id": "5d8fcfd9",
   "metadata": {},
   "outputs": [
    {
     "name": "stdout",
     "output_type": "stream",
     "text": [
      "Reject the null hypothesis\n"
     ]
    },
    {
     "data": {
      "text/plain": [
       "(82.46869255198725, 5.221757795863182e-17)"
      ]
     },
     "execution_count": 14,
     "metadata": {},
     "output_type": "execute_result"
    }
   ],
   "source": [
    "e.Q2_test_1(train)"
   ]
  },
  {
   "cell_type": "markdown",
   "id": "c3027ba1",
   "metadata": {},
   "source": [
    "<div class=\"alert alert-info\">\n",
    "\n",
    "# Q-2 Findings\n",
    "\n",
    "* The p-value/2 is less than the alpha. \n",
    "    \n",
    "**There is evidence to support that homes that have at least one of the following feature: garage, fireplace, pool,deck on average have a higher home value.**  \n",
    "    \n",
    "* Based on this statistical finding I believe that optional features is a driver of home value.Adding an encoded version of this feature to the model will likely increase the model ability to predict home value."
   ]
  },
  {
   "cell_type": "markdown",
   "id": "e8a68e95",
   "metadata": {},
   "source": [
    "<div class=\"alert alert-warning\">\n",
    "\n",
    "\n",
    "# Question 3:\n",
    "## Is there a relationship between log_error and tax delinquency?"
   ]
  },
  {
   "cell_type": "code",
   "execution_count": 15,
   "id": "9afd7e4d",
   "metadata": {
    "scrolled": true
   },
   "outputs": [
    {
     "data": {
      "image/png": "[encoded data removed]",
      "text/plain": [
       "<Figure size 432x360 with 1 Axes>"
      ]
     },
     "metadata": {
      "needs_background": "light"
     },
     "output_type": "display_data"
    }
   ],
   "source": [
    "e.get_loliplot_delinquency(train)"
   ]
  },
  {
   "cell_type": "markdown",
   "id": "d6bbec63",
   "metadata": {},
   "source": [
    "### Properties that have been delinquency in their porperty taxes seem to have more log error in their zestimates"
   ]
  },
  {
   "cell_type": "markdown",
   "id": "3a0f2ca4",
   "metadata": {},
   "source": [
    "We will now conduct a two-tail T-test to determine if there is significant difference between the mean log error of properties with tax delinquency  is greater than the log error of properties with no tax deliquency.\n",
    "\n",
    "* The confidence interval is 95%\n",
    "* Alpha is set to 0.05\n",
    "* p/2 value will be compared to alpha\n",
    "\n",
    "\n",
    "$H_0$: Mean Log error in properties with tax delinquency <= Mean Log error in properties with no tax delinquency\n",
    "\n",
    "$H_a$: Mean Log error in properties with tax delinquency > Mean Log error in properties with no tax delinquency\n",
    "\n",
    "\n"
   ]
  },
  {
   "cell_type": "code",
   "execution_count": 16,
   "id": "edcbbf1b",
   "metadata": {},
   "outputs": [
    {
     "name": "stdout",
     "output_type": "stream",
     "text": [
      "t-stat -2.5847\n",
      "p-value 0.00495\n"
     ]
    }
   ],
   "source": [
    "# obtain ttest \n",
    "e.get_ttest_delinquency(train)"
   ]
  },
  {
   "cell_type": "markdown",
   "id": "e7868341",
   "metadata": {},
   "source": [
    "\n",
    "The p-value/2 is less than the alpha. There is evidence to support that properties that have tax delinquency hverage have a higher log error. Based on this statistical finding I believe that optional features is a driver of home value. We believe that adding this feature will likely improve our model."
   ]
  },
  {
   "cell_type": "code",
   "execution_count": null,
   "id": "2bcdf6e2",
   "metadata": {},
   "outputs": [],
   "source": []
  },
  {
   "cell_type": "markdown",
   "id": "7c527c69",
   "metadata": {},
   "source": [
    "<div class=\"alert alert-warning\">\n",
    "\n",
    "\n",
    "# Question 4:\n",
    "## Do homes that are younger than 81 years have more log error?"
   ]
  },
  {
   "cell_type": "code",
   "execution_count": 18,
   "id": "59d0547e",
   "metadata": {},
   "outputs": [
    {
     "data": {
      "image/png": "[encoded data removed]",
      "text/plain": [
       "<Figure size 432x288 with 1 Axes>"
      ]
     },
     "metadata": {},
     "output_type": "display_data"
    }
   ],
   "source": [
    "# obtain scatter plot home age vs logerror \n",
    "e.get_scatterplot_age(train)"
   ]
  },
  {
   "cell_type": "markdown",
   "id": "c409b7d6",
   "metadata": {},
   "source": [
    "### There seems to be more spread in the log error of homes that are younger than 81 years."
   ]
  },
  {
   "cell_type": "markdown",
   "id": "bdcbee15",
   "metadata": {},
   "source": [
    "!!!!!We will now conduct a two-tail T-test to determine if there is significant difference between the mean log error of homes 81 years or younger  is greater than the log error of properties .\n",
    "\n",
    "* The confidence interval is 95%\n",
    "* Alpha is set to 0.05\n",
    "* p/2 value will be compared to alpha\n",
    "\n",
    "\n",
    "$H_0$: Mean Log error in properties with tax delinquency <= Mean Log error in properties with no tax delinquency\n",
    "\n",
    "$H_a$: Mean Log error in properties with tax delinquency > Mean Log error in properties with no tax delinquency"
   ]
  },
  {
   "cell_type": "code",
   "execution_count": 19,
   "id": "44bddd9f",
   "metadata": {
    "scrolled": true
   },
   "outputs": [
    {
     "name": "stdout",
     "output_type": "stream",
     "text": [
      "t-stat -2.3995\n",
      "p-value 0.00825\n"
     ]
    }
   ],
   "source": [
    "# obtain ttest for home age\n",
    "e.get_ttest_age(train)"
   ]
  },
  {
   "cell_type": "markdown",
   "id": "4230cdb6",
   "metadata": {},
   "source": [
    "# Exploration Summary\n",
    "<div class=\"alert alert-info\">\n",
    "\n",
    "## Generally speaking the majority of the features in our DataFrame have a linear Relationship with our taeget but the Features with the most significant relationship were:\n",
    "\n",
    "  1. Property Squarefeet ```('calculatedfinishedsquarefeet')```\n",
    "  2. Bathrooms ```('bathroomcny')```\n",
    "  3. Bedrooms ```('bedroomcnt')```     \n",
    "    \n",
    "* We found that Property SQFT has the highest correlation with Tax Assessed Property Value at 48%\n",
    "* The number of Bathrooms comes in at a close second at 44%\n",
    "* However, the number of Bedrooms (still the third highest correlation) only scores a 24%\n",
    "\n",
    "## Takeaways:\n",
    "* Features available are sufficient to conduct predictions\n",
    "* We could benefit greatly from additional data and Feature Engineering of Location Data\n",
    "    \n",
    "## Features that will be selected for Modeling:\n",
    "* Our target feature is Tax Assessed Property Value ```('taxvaluedollarcnt')```\n",
    "* Our selected features are:\n",
    "    1. Property Squarefeet ```('calculatedfinishedsquarefeet')```\n",
    "    2. Bathrooms ```('bathroomcny')```\n",
    "    3. Bedrooms ```('bedroomcnt')```"
   ]
  },
  {
   "cell_type": "markdown",
   "id": "293fa781",
   "metadata": {},
   "source": [
    "# Features that will be not included in my model"
   ]
  },
  {
   "cell_type": "markdown",
   "id": "d20728ae",
   "metadata": {},
   "source": [
    "* **y..."
   ]
  },
  {
   "cell_type": "markdown",
   "id": "7adb7a1e",
   "metadata": {},
   "source": [
    "# !!! needs to be updated Modeling:"
   ]
  },
  {
   "cell_type": "markdown",
   "id": "c4064826",
   "metadata": {},
   "source": [
    "* Since the  Home Value is not normaly distributed I will use **median as a baseline** set at $340,572.\n",
    "\n",
    "* $R^2$ is the primary metric I will use to evaluate models and secondary will be a favorable $RMSE$. \n",
    "* $R^2$ helps understand how well the model fits the data.\n",
    "\n",
    "* I will evaluate the following top models on train and validate:\n",
    "        * Polynomial Regression degree 2\n",
    "        * Polynomial Regression degree 2 with interactions only\n",
    "        * Polynomial Regression degree 3\n",
    "        * Polynomial Regression degree 4\n",
    "* The model that performs the best on validate data will be run with test data."
   ]
  },
  {
   "cell_type": "code",
   "execution_count": null,
   "id": "fc1ac087",
   "metadata": {
    "scrolled": true
   },
   "outputs": [],
   "source": [
    "# prepare data for modeling\n",
    "X_train, y_train, X_validate, y_validate, X_test, y_test = m.model_data_prep(train, validate, test)"
   ]
  },
  {
   "cell_type": "code",
   "execution_count": null,
   "id": "3249b889",
   "metadata": {},
   "outputs": [],
   "source": [
    "# run predictions on train data for models\n",
    "train_pred, validate_pred, test_pred = m.predictions(X_train,y_train,X_validate,y_validate,X_test, y_test)\n",
    "\n"
   ]
  },
  {
   "cell_type": "markdown",
   "id": "c07aaeb2",
   "metadata": {},
   "source": [
    "# Comparing Top Models on train and Validate "
   ]
  },
  {
   "cell_type": "markdown",
   "id": "6dc23063",
   "metadata": {},
   "source": [
    "### * Baseline Median Home Value                                                            $340,572"
   ]
  },
  {
   "cell_type": "code",
   "execution_count": null,
   "id": "9474765f",
   "metadata": {
    "scrolled": false
   },
   "outputs": [],
   "source": [
    "m.metrics(train_pred,y_train, validate_pred, y_validate)\n"
   ]
  },
  {
   "cell_type": "markdown",
   "id": "81ab9a2d",
   "metadata": {},
   "source": [
    "All models outperformed median baseline in terms of RMSE in both train and validate data.\n",
    "\n",
    "Polynomial Regressor degree 4 did best in train data in both RMSE and $R^2$\n",
    "\n",
    "The model with the best $R^2$ and RMSE in validate data is Polynomial Regressor degree 3."
   ]
  },
  {
   "cell_type": "markdown",
   "id": "575a6c3d",
   "metadata": {},
   "source": [
    "**I will select model Polynomial Regressor degree 3 since it has the highest R2 and a least RMSE to other models on validate**"
   ]
  },
  {
   "cell_type": "markdown",
   "id": "eb4dc015",
   "metadata": {},
   "source": [
    "# Model on Test data"
   ]
  },
  {
   "cell_type": "code",
   "execution_count": null,
   "id": "60e4cac9",
   "metadata": {
    "scrolled": false
   },
   "outputs": [],
   "source": [
    "# get metrics on Final Model\n",
    "m.metric_test(test_pred[['poly_d3','baseline_median']],y_test)"
   ]
  },
  {
   "cell_type": "markdown",
   "id": "7a3f2e74",
   "metadata": {},
   "source": [
    "## Modeling Summary"
   ]
  },
  {
   "cell_type": "markdown",
   "id": "c40cc762",
   "metadata": {},
   "source": [
    "* All models performed better than the baseline\n",
    "* The Final Model Polynomial Regressor degree 3 had an $R^2$ or .37 on test data and had a better RMSE than baseline by $73,639."
   ]
  },
  {
   "cell_type": "code",
   "execution_count": null,
   "id": "0213e1f8",
   "metadata": {},
   "outputs": [],
   "source": [
    "e.distribution_top_model(y_test, test_pred)   \n"
   ]
  },
  {
   "cell_type": "markdown",
   "id": "f896f6c0",
   "metadata": {},
   "source": [
    "# Conclusion"
   ]
  },
  {
   "cell_type": "markdown",
   "id": "fcbf80fc",
   "metadata": {},
   "source": [
    "## Exploration\n",
    "\n"
   ]
  },
  {
   "cell_type": "markdown",
   "id": "8fbf3a1f",
   "metadata": {},
   "source": [
    "* Homes with an optional feature such as deck, pools, garage, fireplace have more value.\n",
    "* Home with more bedrooms and bathrooms tend to have more value on average.\n",
    "* County location make a difference in home value.\n",
    "* Home age has a relationship with home value."
   ]
  },
  {
   "cell_type": "markdown",
   "id": "058105b7",
   "metadata": {},
   "source": [
    "## Modeling"
   ]
  },
  {
   "cell_type": "markdown",
   "id": "ed93530a",
   "metadata": {},
   "source": [
    "**The final model has an $R^2$ of 0.37 and performed  better than the median baseline by $ 73,639 RMSE** \n"
   ]
  },
  {
   "cell_type": "markdown",
   "id": "c1a19a11",
   "metadata": {},
   "source": [
    "## Recommendations"
   ]
  },
  {
   "cell_type": "markdown",
   "id": "7030b4ae",
   "metadata": {},
   "source": [
    "* Standardize methods of data collection to increase data accuracy; this will likely improve models ability to predict future home values."
   ]
  },
  {
   "cell_type": "markdown",
   "id": "14228d48",
   "metadata": {},
   "source": [
    "## Next Steps"
   ]
  },
  {
   "cell_type": "markdown",
   "id": "8550784b",
   "metadata": {},
   "source": [
    "* Look into locations of homes with information about neighborhoods and/or longitute and latitute to explore relationships between location and home value.\n",
    "* Explore if lot size has and influence on home value.\n"
   ]
  }
 ],
 "metadata": {
  "kernelspec": {
   "display_name": "Python 3 (ipykernel)",
   "language": "python",
   "name": "python3"
  },
  "language_info": {
   "codemirror_mode": {
    "name": "ipython",
    "version": 3
   },
   "file_extension": ".py",
   "mimetype": "text/x-python",
   "name": "python",
   "nbconvert_exporter": "python",
   "pygments_lexer": "ipython3",
   "version": "3.9.12"
  }
 },
 "nbformat": 4,
 "nbformat_minor": 5
}
