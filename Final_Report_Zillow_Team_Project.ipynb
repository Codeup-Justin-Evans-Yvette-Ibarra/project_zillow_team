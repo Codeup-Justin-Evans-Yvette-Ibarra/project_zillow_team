{
 "cells": [
  {
   "cell_type": "markdown",
   "id": "11bba3ec",
   "metadata": {},
   "source": [
    "# $Final$ $Report$ $Zillow$ $Team$ $Project$"
   ]
  },
  {
   "cell_type": "markdown",
   "id": "f137d882",
   "metadata": {},
   "source": [
    "# Group 4\n",
    "* Justin Evans\n",
    "* Yvette Ibarra\n",
    "\n",
    "# Project Overview:\n",
    "This project has been tasked with collecting, cleaning and analyzing Zillow data from 2017 in order to improve a previous prediction model that was designed to predict the Tax Assessed Home Value for Single Family Properties based on available realestate data.\n",
    "\n",
    "# Goals: \n",
    "* Discover key attributes that drive error in Zestimate logerror.\n",
    "* Use those attributes to develop a machine learning model to predict logerror.\n",
    "\n",
    "# Reproduction of this Data:\n",
    "* Can be accomplished using a local ```env.py``` containing ```user, password, host``` information for access to the Codeup SQL database server.\n",
    "* All other step by step instructions can be found by reading the below Jupyter Notebook files located in our [Codeup-Justin-Evans-Yvette-Ibarra](https://github.com/Codeup-Justin-Evans-Yvette-Ibarra/project_zillow_team.git) github repository.\n",
    "    * Final_Report_Zillow_Team_Project.ipynb\n",
    "    * wrangle.py"
   ]
  },
  {
   "cell_type": "markdown",
   "id": "eaeb77fb",
   "metadata": {},
   "source": [
    "# Imports"
   ]
  },
  {
   "cell_type": "code",
   "execution_count": 2,
   "id": "f6e1acc7",
   "metadata": {},
   "outputs": [
    {
     "data": {
      "text/html": [
       "<style>table {align:left;display:block}</style>"
      ],
      "text/plain": [
       "<IPython.core.display.HTML object>"
      ]
     },
     "execution_count": 2,
     "metadata": {},
     "output_type": "execute_result"
    }
   ],
   "source": [
    "import pandas as pd\n",
    "import numpy as np\n",
    "\n",
    "import seaborn as sns\n",
    "import matplotlib.pyplot as plt\n",
    "# Increases Display Resolution for Graphs \n",
    "# Only works inside notebook\n",
    "%matplotlib inline \n",
    "\n",
    "import wrangle as w\n",
    "import model as m\n",
    "#import explore as e\n",
    "\n",
    "# Turns off warnings\n",
    "import warnings\n",
    "warnings.filterwarnings(\"ignore\")\n",
    "\n",
    "# Left Align Tables in Jupyter Notebook\n",
    "from IPython.core.display import HTML\n",
    "table_css = 'table {align:left;display:block}'\n",
    "HTML('<style>{}</style>'.format(table_css))"
   ]
  },
  {
   "cell_type": "markdown",
   "id": "d47e63fd",
   "metadata": {},
   "source": [
    "# Acquire:\n",
    "\n",
    "<div class=\"alert alert-success\">\n",
    "\n",
    "* Data acquire from Codeup Database 11/17/22\n",
    "* It contained  52319 rows and 68 columns before cleaning\n",
    "* Each row represents a single family household:\n",
    "    * properties from 2017 with current transactions\n",
    "    * located in the Californian counties of 'Los Angeles' or 'Orange'or 'Ventura'\n",
    "* Each column represents a feature related to the single family residential."
   ]
  },
  {
   "cell_type": "code",
   "execution_count": 2,
   "id": "5f4a18a2",
   "metadata": {
    "scrolled": false
   },
   "outputs": [],
   "source": [
    "# acquire telco data \n",
    "df = w.get_zillow_data()"
   ]
  },
  {
   "cell_type": "code",
   "execution_count": 3,
   "id": "41c66e4b",
   "metadata": {},
   "outputs": [
    {
     "data": {
      "text/plain": [
       "(52319, 68)"
      ]
     },
     "execution_count": 3,
     "metadata": {},
     "output_type": "execute_result"
    }
   ],
   "source": [
    "df.shape"
   ]
  },
  {
   "cell_type": "markdown",
   "id": "b78a7893",
   "metadata": {},
   "source": [
    "# Prepare:\n",
    "<div class=\"alert alert-success\">\n",
    "\n",
    "\n",
    "prepare actions:\n",
    "* After the follwing steps we retained 95.9% of original data:\n",
    "    * Outliers were removed\n",
    "    (to better fit the definition of Single Family Property):\n",
    "    \n",
    "        * Beds above 8 \n",
    "        * Baths above 8 \n",
    "        * Home values above 2_000_000\n",
    "        * Rows with 0 beds and/or 0 baths \n",
    "        \n",
    "    * For the following features it was assumed null values meant the structure did not exist on property:\n",
    "        * has_fireplace (45096)\n",
    "        * has_deck (51930)\n",
    "        * has_pool (41242)\n",
    "        * has_garage (34335)\n",
    "        * has_taxdelinquency(50251)\n",
    "\n",
    "* Columns with less than 50_000 values and columns with no pertenant value were dropped:\n",
    "     * totaling 34 columns\n",
    " \n",
    "* Feature engineer \n",
    "     * 'age' is a feature created by subracting yearbulit from 2017\n",
    "     * 'optional_features' is a feature created by stating a 1 if aproperty has a fireplace, garage, pool or deck and 0 if none is present.\n",
    "        \n",
    "* Encoded categorical variables\n",
    "\n",
    "* Split data into train, validate and test \n",
    "    * Approximately: train 56%, validate 24%, test 20%\n",
    "  \n"
   ]
  },
  {
   "cell_type": "markdown",
   "id": "711f0d4b",
   "metadata": {},
   "source": [
    "<div class=\"alert alert-info\">\n",
    "\n",
    "    \n",
    "# Summary of Data Cleansing\n",
    "* Cleaning the data resulted in less than 6% overall record loss\n",
    "</div>"
   ]
  },
  {
   "cell_type": "markdown",
   "id": "1ac4bc79",
   "metadata": {},
   "source": [
    "<div class=\"alert alert-warning\">\n",
    "    \n",
    "* <b>DROP NaN COLUMNS:</b> 39 features each containing over 30% NaN were dropped; <b>resulting in no record loss</b>.\n",
    "  \n",
    "* <b>DROP NaN ROWS:</b> 1,768 records containing NaN across 13 features were dropped; <b>resulting in only 3% record loss</b>.\n",
    "\n",
    "* <b>OUTLIERS:</b> Aproximately 3,000 outliers were filtered out in an attempt to more accurately align with realistic expectations of a Single Family Residence; <b>resulting in less than a 6% decrease in overall records</b>.\n",
    "\n",
    "* <b>IMPUTE:</b> No data was imputed</div>"
   ]
  },
  {
   "cell_type": "code",
   "execution_count": 5,
   "id": "f58139b3",
   "metadata": {
    "scrolled": true
   },
   "outputs": [],
   "source": [
    "# prepare data \n",
    "df = w.zillow_prep(df)"
   ]
  },
  {
   "cell_type": "code",
   "execution_count": 6,
   "id": "26dffed8",
   "metadata": {},
   "outputs": [
    {
     "data": {
      "text/plain": [
       "(50293, 34)"
      ]
     },
     "execution_count": 6,
     "metadata": {},
     "output_type": "execute_result"
    }
   ],
   "source": [
    "df.shape"
   ]
  },
  {
   "cell_type": "markdown",
   "id": "c40d5c94",
   "metadata": {},
   "source": [
    "# Split:\n",
    "<div class=\"alert alert-success\">\n",
    "\n",
    "* 56/24/20"
   ]
  },
  {
   "cell_type": "code",
   "execution_count": 7,
   "id": "55ead39e",
   "metadata": {},
   "outputs": [],
   "source": [
    "# split data: train, validate and test\n",
    "train, validate, test = w.split_data(df)"
   ]
  },
  {
   "cell_type": "markdown",
   "id": "07eb17ce",
   "metadata": {},
   "source": [
    "# Data Dictionary:\n",
    "\n",
    "<div class=\"alert alert-success\">\n",
    "\n",
    "    \n",
    "## Continuous Categorical Counts\n",
    "|Feature    |Description|\n",
    "|:----------|:-----------------|\n",
    "|parcelid|| \n",
    "|bedrooms|Number of bedrooms in home|\n",
    "|bathrooms|Number of bathrooms in home including fractional bathrooms| \n",
    "|calculatedbathnbr|| \n",
    "|fullbathcnt||\n",
    "|age|The age of the home in 2017| \n",
    "|yearbuilt|The Year the principal residence was built| \n",
    "\n",
    "## Categorical Binary\n",
    "|Feature    |Description           |\n",
    "|:----------|:-----------------|\n",
    "|has_basement|Basement on property (if any = 1)| \n",
    "|has_deck|Deck on property (if any = 1)| \n",
    "|has_fireplace|Fireplace on property (if any = 1)| \n",
    "|has_garage|Garage on property (if any = 1)| \n",
    "|has_hottuborspa|Hot Tub or Spa on property (if any = 1)| \n",
    "|has_pool|Pool on property (if any = 1)| \n",
    "|optional_features|Property has at least one optional feature listed above (if any = 1)| \n",
    "|has_tax_delinquency|Property has had Tax Delinquncy (if any = 1)| \n",
    "\n",
    "## Location\n",
    "|Feature    |Description    |\n",
    "|:----------|:-----------------|\n",
    "|fips||\n",
    "|state|| \n",
    "|county|FIPS code for californian counties: 6111 Ventura County, 6059  Orange County, 6037 Los Angeles County|\n",
    "|la_county|| \n",
    "|orange_county|| \n",
    "|ventura_county|\n",
    "|longitude|| \n",
    "|latitude||\n",
    "|zipcode|| \n",
    "|regionidcounty|| \n",
    "|rawcensustractandblock|| \n",
    "|censustractandblock|| \n",
    "\n",
    "## Size\n",
    "|Feature    |Description           |\n",
    "|:----------|:-----------------|\n",
    "|sqft|Calculated total finished living area of the home|\n",
    "|lotsizesquarefeet|| \n",
    "\n",
    "## Value\n",
    "|Feature    |Description           |\n",
    "|:----------|:-----------------|\n",
    "|tax_value_bldg|The total tax assessed value of the structure|\n",
    "|tax_value|The total tax assessed value of the parcel| \n",
    "|tax_value_land|The total tax assessed value of the land|\n",
    "|taxamount|The total tax fee to be collected on the parcel| \n",
    "\n",
    "## Target\n",
    "|Feature    |Description           |\n",
    "|:----------|:-----------------|\n",
    "|log_error|This is the logerror of the Zillow Zestimate|\n",
    "\n",
    "## Clusters\n",
    "|Feature    |Description          |\n",
    "|:----------|:-----------------|\n",
    "|loc_clusters|Created using 'longitude', 'latitude', 'age' with n_clusters = 4|\n",
    "|cluster_price_size|Created using 'taxamount', 'sqft', 'lot_sqft' with n_clusters = 4|\n",
    "|cluster_delinquency_value|Created using ‘tax_value’, ‘sqft’,‘has_taxdelinquency’ with n_clusters = 4|"
   ]
  },
  {
   "cell_type": "markdown",
   "id": "1500c993",
   "metadata": {},
   "source": [
    "## Peek at the data:"
   ]
  },
  {
   "cell_type": "code",
   "execution_count": 8,
   "id": "46ee4353",
   "metadata": {
    "scrolled": true
   },
   "outputs": [
    {
     "data": {
      "text/html": [
       "<div>\n",
       "<style scoped>\n",
       "    .dataframe tbody tr th:only-of-type {\n",
       "        vertical-align: middle;\n",
       "    }\n",
       "\n",
       "    .dataframe tbody tr th {\n",
       "        vertical-align: top;\n",
       "    }\n",
       "\n",
       "    .dataframe thead th {\n",
       "        text-align: right;\n",
       "    }\n",
       "</style>\n",
       "<table border=\"1\" class=\"dataframe\">\n",
       "  <thead>\n",
       "    <tr style=\"text-align: right;\">\n",
       "      <th></th>\n",
       "      <th>parcelid</th>\n",
       "      <th>bedrooms</th>\n",
       "      <th>bathrooms</th>\n",
       "      <th>calculatedbathnbr</th>\n",
       "      <th>fullbathcnt</th>\n",
       "      <th>age</th>\n",
       "      <th>yearbuilt</th>\n",
       "      <th>has_basement</th>\n",
       "      <th>has_deck</th>\n",
       "      <th>has_fireplace</th>\n",
       "      <th>...</th>\n",
       "      <th>regionidcounty</th>\n",
       "      <th>rawcensustractandblock</th>\n",
       "      <th>censustractandblock</th>\n",
       "      <th>sqft</th>\n",
       "      <th>lot_sqft</th>\n",
       "      <th>tax_value_bldg</th>\n",
       "      <th>tax_value</th>\n",
       "      <th>tax_value_land</th>\n",
       "      <th>taxamount</th>\n",
       "      <th>log_error</th>\n",
       "    </tr>\n",
       "  </thead>\n",
       "  <tbody>\n",
       "    <tr>\n",
       "      <th>11303</th>\n",
       "      <td>14498262</td>\n",
       "      <td>4.0</td>\n",
       "      <td>2.5</td>\n",
       "      <td>2.5</td>\n",
       "      <td>2.0</td>\n",
       "      <td>27.0</td>\n",
       "      <td>1990.0</td>\n",
       "      <td>0</td>\n",
       "      <td>0</td>\n",
       "      <td>0</td>\n",
       "      <td>...</td>\n",
       "      <td>1286.0</td>\n",
       "      <td>6.059032e+07</td>\n",
       "      <td>6.059032e+13</td>\n",
       "      <td>2361.0</td>\n",
       "      <td>10800.0</td>\n",
       "      <td>240309.0</td>\n",
       "      <td>562351.0</td>\n",
       "      <td>322042.0</td>\n",
       "      <td>5740.94</td>\n",
       "      <td>0.014676</td>\n",
       "    </tr>\n",
       "    <tr>\n",
       "      <th>26458</th>\n",
       "      <td>12851739</td>\n",
       "      <td>3.0</td>\n",
       "      <td>2.0</td>\n",
       "      <td>2.0</td>\n",
       "      <td>2.0</td>\n",
       "      <td>55.0</td>\n",
       "      <td>1962.0</td>\n",
       "      <td>0</td>\n",
       "      <td>0</td>\n",
       "      <td>0</td>\n",
       "      <td>...</td>\n",
       "      <td>3101.0</td>\n",
       "      <td>6.037409e+07</td>\n",
       "      <td>6.037409e+13</td>\n",
       "      <td>1245.0</td>\n",
       "      <td>5763.0</td>\n",
       "      <td>140233.0</td>\n",
       "      <td>236264.0</td>\n",
       "      <td>96031.0</td>\n",
       "      <td>3099.27</td>\n",
       "      <td>-0.025476</td>\n",
       "    </tr>\n",
       "    <tr>\n",
       "      <th>28486</th>\n",
       "      <td>11276661</td>\n",
       "      <td>4.0</td>\n",
       "      <td>2.0</td>\n",
       "      <td>2.0</td>\n",
       "      <td>2.0</td>\n",
       "      <td>24.0</td>\n",
       "      <td>1993.0</td>\n",
       "      <td>0</td>\n",
       "      <td>0</td>\n",
       "      <td>0</td>\n",
       "      <td>...</td>\n",
       "      <td>3101.0</td>\n",
       "      <td>6.037901e+07</td>\n",
       "      <td>6.037901e+13</td>\n",
       "      <td>1556.0</td>\n",
       "      <td>14711.0</td>\n",
       "      <td>152292.0</td>\n",
       "      <td>202328.0</td>\n",
       "      <td>50036.0</td>\n",
       "      <td>3234.50</td>\n",
       "      <td>-0.084878</td>\n",
       "    </tr>\n",
       "  </tbody>\n",
       "</table>\n",
       "<p>3 rows × 34 columns</p>\n",
       "</div>"
      ],
      "text/plain": [
       "       parcelid  bedrooms  bathrooms  calculatedbathnbr  fullbathcnt   age  \\\n",
       "11303  14498262       4.0        2.5                2.5          2.0  27.0   \n",
       "26458  12851739       3.0        2.0                2.0          2.0  55.0   \n",
       "28486  11276661       4.0        2.0                2.0          2.0  24.0   \n",
       "\n",
       "       yearbuilt  has_basement  has_deck  has_fireplace  ...  regionidcounty  \\\n",
       "11303     1990.0             0         0              0  ...          1286.0   \n",
       "26458     1962.0             0         0              0  ...          3101.0   \n",
       "28486     1993.0             0         0              0  ...          3101.0   \n",
       "\n",
       "       rawcensustractandblock  censustractandblock    sqft  lot_sqft  \\\n",
       "11303            6.059032e+07         6.059032e+13  2361.0   10800.0   \n",
       "26458            6.037409e+07         6.037409e+13  1245.0    5763.0   \n",
       "28486            6.037901e+07         6.037901e+13  1556.0   14711.0   \n",
       "\n",
       "       tax_value_bldg tax_value tax_value_land  taxamount  log_error  \n",
       "11303        240309.0  562351.0       322042.0    5740.94   0.014676  \n",
       "26458        140233.0  236264.0        96031.0    3099.27  -0.025476  \n",
       "28486        152292.0  202328.0        50036.0    3234.50  -0.084878  \n",
       "\n",
       "[3 rows x 34 columns]"
      ]
     },
     "execution_count": 8,
     "metadata": {},
     "output_type": "execute_result"
    }
   ],
   "source": [
    "train.head(3)"
   ]
  },
  {
   "cell_type": "markdown",
   "id": "03e989b5",
   "metadata": {},
   "source": [
    "# Exploration:\n",
    "<div class=\"alert alert-success\">\n",
    " \n",
    "* Words\n",
    "* Words\n"
   ]
  },
  {
   "cell_type": "markdown",
   "id": "44c3df72",
   "metadata": {},
   "source": [
    "<div class=\"alert alert-warning\">\n",
    "\n",
    "\n",
    "## Q-1\n",
    "## Is there a relationship between longitude and logerror?"
   ]
  },
  {
   "cell_type": "code",
   "execution_count": 9,
   "id": "f375b95d",
   "metadata": {
    "scrolled": false
   },
   "outputs": [],
   "source": [
    "#Q-1_viz_1()"
   ]
  },
  {
   "cell_type": "markdown",
   "id": "daac4ab2",
   "metadata": {},
   "source": [
    "#### VIZ Analysis\n",
    "* Words\n",
    "* Words"
   ]
  },
  {
   "cell_type": "markdown",
   "id": "74c335b1",
   "metadata": {},
   "source": [
    "* $H_{0}$: The number of Bathrooms **is NOT dependent** on the number of Bedrooms.  \n",
    "* $H_{a}$: The number of Bathrooms **is dependent** on the number of Bedrooms.\n",
    "\n",
    "\n",
    "* The confidence interval is 95%\n",
    "* Alpha is set to 0.05\n",
    "* p/2 value will be compared to alpha\n",
    "\n",
    "\n",
    "* Two_Tail, Two_Sample\n",
    "* Continuous (bedroomcnt) vs Continuous (bathroomcnt) = **Pearson’s R**."
   ]
  },
  {
   "cell_type": "code",
   "execution_count": 10,
   "id": "5a9ac043",
   "metadata": {
    "scrolled": false
   },
   "outputs": [],
   "source": [
    "#Q-1_test_1()"
   ]
  },
  {
   "cell_type": "markdown",
   "id": "ee25635b",
   "metadata": {},
   "source": [
    "<div class=\"alert alert-info\">\n",
    "\n",
    "# Q-1 Findings\n",
    "\n",
    "* The p-value/2 is less than the alpha. \n",
    "    \n",
    "**There is evidence to support that homes that have at least one of the following feature: garage, fireplace, pool,deck on average have a higher home value.**  \n",
    "    \n",
    "* Based on this statistical finding I believe that optional features is a driver of home value.Adding an encoded version of this feature to the model will likely increase the model ability to predict home value."
   ]
  },
  {
   "cell_type": "markdown",
   "id": "80a4bf4d",
   "metadata": {},
   "source": [
    "<div class=\"alert alert-warning\">\n",
    "\n",
    "\n",
    "## Q-2\n",
    "## QUESTION?"
   ]
  },
  {
   "cell_type": "code",
   "execution_count": 9,
   "id": "73f4bc4e",
   "metadata": {
    "scrolled": false
   },
   "outputs": [],
   "source": [
    "#Q-2_viz_1()"
   ]
  },
  {
   "cell_type": "markdown",
   "id": "5f3c5c81",
   "metadata": {},
   "source": [
    "#### VIZ Analysis\n",
    "* Words\n",
    "* Words"
   ]
  },
  {
   "cell_type": "markdown",
   "id": "4411002e",
   "metadata": {},
   "source": [
    "* $H_{0}$: The number of Bathrooms **is NOT dependent** on the number of Bedrooms.  \n",
    "* $H_{a}$: The number of Bathrooms **is dependent** on the number of Bedrooms.\n",
    "\n",
    "\n",
    "* The confidence interval is 95%\n",
    "* Alpha is set to 0.05\n",
    "* p/2 value will be compared to alpha\n",
    "\n",
    "\n",
    "* Two_Tail, Two_Sample\n",
    "* Continuous (bedroomcnt) vs Continuous (bathroomcnt) = **Pearson’s R**."
   ]
  },
  {
   "cell_type": "code",
   "execution_count": 10,
   "id": "778470e8",
   "metadata": {
    "scrolled": false
   },
   "outputs": [],
   "source": [
    "#Q-2_test_1()"
   ]
  },
  {
   "cell_type": "markdown",
   "id": "7e7e05b8",
   "metadata": {},
   "source": [
    "<div class=\"alert alert-info\">\n",
    "\n",
    "# Q-2 Findings\n",
    "\n",
    "* The p-value/2 is less than the alpha. \n",
    "    \n",
    "**There is evidence to support that homes that have at least one of the following feature: garage, fireplace, pool,deck on average have a higher home value.**  \n",
    "    \n",
    "* Based on this statistical finding I believe that optional features is a driver of home value.Adding an encoded version of this feature to the model will likely increase the model ability to predict home value."
   ]
  },
  {
   "cell_type": "markdown",
   "id": "e120d70d",
   "metadata": {},
   "source": [
    "<div class=\"alert alert-warning\">\n",
    "\n",
    "\n",
    "## Q-3\n",
    "## QUESTION?"
   ]
  },
  {
   "cell_type": "code",
   "execution_count": 9,
   "id": "972a68a6",
   "metadata": {
    "scrolled": false
   },
   "outputs": [],
   "source": [
    "#Q-3_viz_1()"
   ]
  },
  {
   "cell_type": "markdown",
   "id": "08efd441",
   "metadata": {},
   "source": [
    "#### VIZ Analysis\n",
    "* Words\n",
    "* Words"
   ]
  },
  {
   "cell_type": "markdown",
   "id": "4b1b39b7",
   "metadata": {},
   "source": [
    "* $H_{0}$: The number of Bathrooms **is NOT dependent** on the number of Bedrooms.  \n",
    "* $H_{a}$: The number of Bathrooms **is dependent** on the number of Bedrooms.\n",
    "\n",
    "\n",
    "* The confidence interval is 95%\n",
    "* Alpha is set to 0.05\n",
    "* p/2 value will be compared to alpha\n",
    "\n",
    "\n",
    "* Two_Tail, Two_Sample\n",
    "* Continuous (bedroomcnt) vs Continuous (bathroomcnt) = **Pearson’s R**."
   ]
  },
  {
   "cell_type": "code",
   "execution_count": 10,
   "id": "a3c039be",
   "metadata": {
    "scrolled": false
   },
   "outputs": [],
   "source": [
    "#Q-3_test_1()"
   ]
  },
  {
   "cell_type": "markdown",
   "id": "faab7639",
   "metadata": {},
   "source": [
    "<div class=\"alert alert-info\">\n",
    "\n",
    "# Q-3 Findings\n",
    "\n",
    "* The p-value/2 is less than the alpha. \n",
    "    \n",
    "**There is evidence to support that homes that have at least one of the following feature: garage, fireplace, pool,deck on average have a higher home value.**  \n",
    "    \n",
    "* Based on this statistical finding I believe that optional features is a driver of home value.Adding an encoded version of this feature to the model will likely increase the model ability to predict home value."
   ]
  },
  {
   "cell_type": "markdown",
   "id": "53b7200b",
   "metadata": {},
   "source": [
    "<div class=\"alert alert-warning\">\n",
    "\n",
    "\n",
    "## Q-4\n",
    "## QUESTION?"
   ]
  },
  {
   "cell_type": "code",
   "execution_count": 9,
   "id": "b0ecb636",
   "metadata": {
    "scrolled": false
   },
   "outputs": [],
   "source": [
    "#Q-4_viz_1()"
   ]
  },
  {
   "cell_type": "markdown",
   "id": "f37af8b2",
   "metadata": {},
   "source": [
    "#### VIZ Analysis\n",
    "* Words\n",
    "* Words"
   ]
  },
  {
   "cell_type": "markdown",
   "id": "855ae443",
   "metadata": {},
   "source": [
    "* $H_{0}$: The number of Bathrooms **is NOT dependent** on the number of Bedrooms.  \n",
    "* $H_{a}$: The number of Bathrooms **is dependent** on the number of Bedrooms.\n",
    "\n",
    "\n",
    "* The confidence interval is 95%\n",
    "* Alpha is set to 0.05\n",
    "* p/2 value will be compared to alpha\n",
    "\n",
    "\n",
    "* Two_Tail, Two_Sample\n",
    "* Continuous (bedroomcnt) vs Continuous (bathroomcnt) = **Pearson’s R**."
   ]
  },
  {
   "cell_type": "code",
   "execution_count": 10,
   "id": "39834c39",
   "metadata": {
    "scrolled": false
   },
   "outputs": [],
   "source": [
    "#Q-4_test_1()"
   ]
  },
  {
   "cell_type": "markdown",
   "id": "aaaf290a",
   "metadata": {},
   "source": [
    "<div class=\"alert alert-info\">\n",
    "\n",
    "# Q-4 Findings\n",
    "\n",
    "* The p-value/2 is less than the alpha. \n",
    "    \n",
    "**There is evidence to support that homes that have at least one of the following feature: garage, fireplace, pool,deck on average have a higher home value.**  \n",
    "    \n",
    "* Based on this statistical finding I believe that optional features is a driver of home value.Adding an encoded version of this feature to the model will likely increase the model ability to predict home value."
   ]
  },
  {
   "cell_type": "markdown",
   "id": "20115de7",
   "metadata": {},
   "source": [
    "<div class=\"alert alert-warning\">\n",
    "\n",
    "\n",
    "## Q-5\n",
    "## QUESTION?"
   ]
  },
  {
   "cell_type": "code",
   "execution_count": 9,
   "id": "5547edd6",
   "metadata": {
    "scrolled": false
   },
   "outputs": [],
   "source": [
    "#Q-5_viz_1()"
   ]
  },
  {
   "cell_type": "markdown",
   "id": "6bae85ad",
   "metadata": {},
   "source": [
    "#### VIZ Analysis\n",
    "* Words\n",
    "* Words"
   ]
  },
  {
   "cell_type": "markdown",
   "id": "e3908fbf",
   "metadata": {},
   "source": [
    "* $H_{0}$: The number of Bathrooms **is NOT dependent** on the number of Bedrooms.  \n",
    "* $H_{a}$: The number of Bathrooms **is dependent** on the number of Bedrooms.\n",
    "\n",
    "\n",
    "* The confidence interval is 95%\n",
    "* Alpha is set to 0.05\n",
    "* p/2 value will be compared to alpha\n",
    "\n",
    "\n",
    "* Two_Tail, Two_Sample\n",
    "* Continuous (bedroomcnt) vs Continuous (bathroomcnt) = **Pearson’s R**."
   ]
  },
  {
   "cell_type": "code",
   "execution_count": 10,
   "id": "23b4b885",
   "metadata": {
    "scrolled": false
   },
   "outputs": [],
   "source": [
    "#Q-5_test_1()"
   ]
  },
  {
   "cell_type": "markdown",
   "id": "324109da",
   "metadata": {},
   "source": [
    "<div class=\"alert alert-info\">\n",
    "\n",
    "# Q-5 Findings\n",
    "\n",
    "* The p-value/2 is less than the alpha. \n",
    "    \n",
    "**There is evidence to support that homes that have at least one of the following feature: garage, fireplace, pool,deck on average have a higher home value.**  \n",
    "    \n",
    "* Based on this statistical finding I believe that optional features is a driver of home value.Adding an encoded version of this feature to the model will likely increase the model ability to predict home value."
   ]
  },
  {
   "cell_type": "markdown",
   "id": "4230cdb6",
   "metadata": {},
   "source": [
    "# Exploration Summary\n",
    "<div class=\"alert alert-info\">\n",
    "\n",
    "## Generally speaking the majority of the features in our DataFrame have a linear Relationship with our taeget but the Features with the most significant relationship were:\n",
    "\n",
    "  1. Property Squarefeet ```('calculatedfinishedsquarefeet')```\n",
    "  2. Bathrooms ```('bathroomcny')```\n",
    "  3. Bedrooms ```('bedroomcnt')```     \n",
    "    \n",
    "* We found that Property SQFT has the highest correlation with Tax Assessed Property Value at 48%\n",
    "* The number of Bathrooms comes in at a close second at 44%\n",
    "* However, the number of Bedrooms (still the third highest correlation) only scores a 24%\n",
    "\n",
    "## Takeaways:\n",
    "* Features available are sufficient to conduct predictions\n",
    "* We could benefit greatly from additional data and Feature Engineering of Location Data\n",
    "    \n",
    "## Features that will be selected for Modeling:\n",
    "* Our target feature is Tax Assessed Property Value ```('taxvaluedollarcnt')```\n",
    "* Our selected features are:\n",
    "    1. Property Squarefeet ```('calculatedfinishedsquarefeet')```\n",
    "    2. Bathrooms ```('bathroomcny')```\n",
    "    3. Bedrooms ```('bedroomcnt')```"
   ]
  },
  {
   "cell_type": "markdown",
   "id": "293fa781",
   "metadata": {},
   "source": [
    "# Features that will be not included in my model"
   ]
  },
  {
   "cell_type": "markdown",
   "id": "d20728ae",
   "metadata": {},
   "source": [
    "* **y..."
   ]
  },
  {
   "cell_type": "markdown",
   "id": "7adb7a1e",
   "metadata": {},
   "source": [
    "# !!! needs to be updated Modeling:"
   ]
  },
  {
   "cell_type": "markdown",
   "id": "c4064826",
   "metadata": {},
   "source": [
    "* Since the  Home Value is not normaly distributed I will use **median as a baseline** set at $340,572.\n",
    "\n",
    "* $R^2$ is the primary metric I will use to evaluate models and secondary will be a favorable $RMSE$. \n",
    "* $R^2$ helps understand how well the model fits the data.\n",
    "\n",
    "* I will evaluate the following top models on train and validate:\n",
    "        * Polynomial Regression degree 2\n",
    "        * Polynomial Regression degree 2 with interactions only\n",
    "        * Polynomial Regression degree 3\n",
    "        * Polynomial Regression degree 4\n",
    "* The model that performs the best on validate data will be run with test data."
   ]
  },
  {
   "cell_type": "code",
   "execution_count": 16,
   "id": "fc1ac087",
   "metadata": {
    "scrolled": true
   },
   "outputs": [
    {
     "ename": "NameError",
     "evalue": "name 'm' is not defined",
     "output_type": "error",
     "traceback": [
      "\u001b[0;31m---------------------------------------------------------------------------\u001b[0m",
      "\u001b[0;31mNameError\u001b[0m                                 Traceback (most recent call last)",
      "Input \u001b[0;32mIn [16]\u001b[0m, in \u001b[0;36m<cell line: 2>\u001b[0;34m()\u001b[0m\n\u001b[1;32m      1\u001b[0m \u001b[38;5;66;03m# prepare data for modeling\u001b[39;00m\n\u001b[0;32m----> 2\u001b[0m X_train, y_train, X_validate, y_validate, X_test, y_test \u001b[38;5;241m=\u001b[39m \u001b[43mm\u001b[49m\u001b[38;5;241m.\u001b[39mmodel_data_prep(train, validate, test)\n",
      "\u001b[0;31mNameError\u001b[0m: name 'm' is not defined"
     ]
    }
   ],
   "source": [
    "# prepare data for modeling\n",
    "X_train, y_train, X_validate, y_validate, X_test, y_test = m.model_data_prep(train, validate, test)"
   ]
  },
  {
   "cell_type": "code",
   "execution_count": null,
   "id": "3249b889",
   "metadata": {},
   "outputs": [],
   "source": [
    "# run predictions on train data for models\n",
    "train_pred, validate_pred, test_pred = m.predictions(X_train,y_train,X_validate,y_validate,X_test, y_test)\n",
    "\n"
   ]
  },
  {
   "cell_type": "markdown",
   "id": "c07aaeb2",
   "metadata": {},
   "source": [
    "# Comparing Top Models on train and Validate "
   ]
  },
  {
   "cell_type": "markdown",
   "id": "6dc23063",
   "metadata": {},
   "source": [
    "### * Baseline Median Home Value                                                            $340,572"
   ]
  },
  {
   "cell_type": "code",
   "execution_count": null,
   "id": "9474765f",
   "metadata": {
    "scrolled": false
   },
   "outputs": [],
   "source": [
    "m.metrics(train_pred,y_train, validate_pred, y_validate)\n"
   ]
  },
  {
   "cell_type": "markdown",
   "id": "81ab9a2d",
   "metadata": {},
   "source": [
    "All models outperformed median baseline in terms of RMSE in both train and validate data.\n",
    "\n",
    "Polynomial Regressor degree 4 did best in train data in both RMSE and $R^2$\n",
    "\n",
    "The model with the best $R^2$ and RMSE in validate data is Polynomial Regressor degree 3."
   ]
  },
  {
   "cell_type": "markdown",
   "id": "575a6c3d",
   "metadata": {},
   "source": [
    "**I will select model Polynomial Regressor degree 3 since it has the highest R2 and a least RMSE to other models on validate**"
   ]
  },
  {
   "cell_type": "markdown",
   "id": "eb4dc015",
   "metadata": {},
   "source": [
    "# Model on Test data"
   ]
  },
  {
   "cell_type": "code",
   "execution_count": null,
   "id": "60e4cac9",
   "metadata": {
    "scrolled": false
   },
   "outputs": [],
   "source": [
    "# get metrics on Final Model\n",
    "m.metric_test(test_pred[['poly_d3','baseline_median']],y_test)"
   ]
  },
  {
   "cell_type": "markdown",
   "id": "7a3f2e74",
   "metadata": {},
   "source": [
    "## Modeling Summary"
   ]
  },
  {
   "cell_type": "markdown",
   "id": "c40cc762",
   "metadata": {},
   "source": [
    "* All models performed better than the baseline\n",
    "* The Final Model Polynomial Regressor degree 3 had an $R^2$ or .37 on test data and had a better RMSE than baseline by $73,639."
   ]
  },
  {
   "cell_type": "code",
   "execution_count": null,
   "id": "0213e1f8",
   "metadata": {},
   "outputs": [],
   "source": [
    "e.distribution_top_model(y_test, test_pred)   \n"
   ]
  },
  {
   "cell_type": "markdown",
   "id": "f896f6c0",
   "metadata": {},
   "source": [
    "# Conclusion"
   ]
  },
  {
   "cell_type": "markdown",
   "id": "fcbf80fc",
   "metadata": {},
   "source": [
    "## Exploration\n",
    "\n"
   ]
  },
  {
   "cell_type": "markdown",
   "id": "8fbf3a1f",
   "metadata": {},
   "source": [
    "* Homes with an optional feature such as deck, pools, garage, fireplace have more value.\n",
    "* Home with more bedrooms and bathrooms tend to have more value on average.\n",
    "* County location make a difference in home value.\n",
    "* Home age has a relationship with home value."
   ]
  },
  {
   "cell_type": "markdown",
   "id": "058105b7",
   "metadata": {},
   "source": [
    "## Modeling"
   ]
  },
  {
   "cell_type": "markdown",
   "id": "ed93530a",
   "metadata": {},
   "source": [
    "**The final model has an $R^2$ of 0.37 and performed  better than the median baseline by $ 73,639 RMSE** \n"
   ]
  },
  {
   "cell_type": "markdown",
   "id": "c1a19a11",
   "metadata": {},
   "source": [
    "## Recommendations"
   ]
  },
  {
   "cell_type": "markdown",
   "id": "7030b4ae",
   "metadata": {},
   "source": [
    "* Standardize methods of data collection to increase data accuracy; this will likely improve models ability to predict future home values."
   ]
  },
  {
   "cell_type": "markdown",
   "id": "14228d48",
   "metadata": {},
   "source": [
    "## Next Steps"
   ]
  },
  {
   "cell_type": "markdown",
   "id": "8550784b",
   "metadata": {},
   "source": [
    "* Look into locations of homes with information about neighborhoods and/or longitute and latitute to explore relationships between location and home value.\n",
    "* Explore if lot size has and influence on home value.\n"
   ]
  }
 ],
 "metadata": {
  "kernelspec": {
   "display_name": "Python 3 (ipykernel)",
   "language": "python",
   "name": "python3"
  },
  "language_info": {
   "codemirror_mode": {
    "name": "ipython",
    "version": 3
   },
   "file_extension": ".py",
   "mimetype": "text/x-python",
   "name": "python",
   "nbconvert_exporter": "python",
   "pygments_lexer": "ipython3",
   "version": "3.9.12"
  }
 },
 "nbformat": 4,
 "nbformat_minor": 5
}
