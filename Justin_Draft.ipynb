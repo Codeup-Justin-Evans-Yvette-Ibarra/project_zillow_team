{
 "cells": [
  {
   "cell_type": "code",
   "execution_count": 1,
   "id": "0702aacc",
   "metadata": {},
   "outputs": [
    {
     "ename": "IndentationError",
     "evalue": "unexpected indent (wrangle.py, line 74)",
     "output_type": "error",
     "traceback": [
      "Traceback \u001b[0;36m(most recent call last)\u001b[0m:\n",
      "  File \u001b[1;32m/opt/homebrew/anaconda3/lib/python3.9/site-packages/IPython/core/interactiveshell.py:3397\u001b[0m in \u001b[1;35mrun_code\u001b[0m\n    exec(code_obj, self.user_global_ns, self.user_ns)\n",
      "\u001b[0;36m  Input \u001b[0;32mIn [1]\u001b[0;36m in \u001b[0;35m<cell line: 1>\u001b[0;36m\u001b[0m\n\u001b[0;31m    import wrangle.py as w\u001b[0m\n",
      "\u001b[0;36m  File \u001b[0;32m~/codeup-data-science/project_zillow_team/wrangle.py:74\u001b[0;36m\u001b[0m\n\u001b[0;31m    filename = 'zillow.csv'\u001b[0m\n\u001b[0m    ^\u001b[0m\n\u001b[0;31mIndentationError\u001b[0m\u001b[0;31m:\u001b[0m unexpected indent\n"
     ]
    }
   ],
   "source": [
    "import wrangle.py as w"
   ]
  },
  {
   "cell_type": "code",
   "execution_count": null,
   "id": "df3ab8fc",
   "metadata": {},
   "outputs": [],
   "source": []
  }
 ],
 "metadata": {
  "kernelspec": {
   "display_name": "Python 3 (ipykernel)",
   "language": "python",
   "name": "python3"
  },
  "language_info": {
   "codemirror_mode": {
    "name": "ipython",
    "version": 3
   },
   "file_extension": ".py",
   "mimetype": "text/x-python",
   "name": "python",
   "nbconvert_exporter": "python",
   "pygments_lexer": "ipython3",
   "version": "3.9.12"
  }
 },
 "nbformat": 4,
 "nbformat_minor": 5
}
