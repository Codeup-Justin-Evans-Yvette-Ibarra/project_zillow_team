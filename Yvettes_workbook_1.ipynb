{
 "cells": [
  {
   "cell_type": "markdown",
   "id": "c31d9edf",
   "metadata": {},
   "source": [
    "# $Yvette$ $WorkBook$"
   ]
  },
  {
   "cell_type": "code",
   "execution_count": null,
   "id": "95993923",
   "metadata": {},
   "outputs": [],
   "source": []
  },
  {
   "cell_type": "markdown",
   "id": "2df48825",
   "metadata": {},
   "source": [
    "# Imports"
   ]
  },
  {
   "cell_type": "code",
   "execution_count": 1,
   "id": "e071ce31",
   "metadata": {},
   "outputs": [],
   "source": [
    "import numpy as np\n",
    "import pandas as pd\n",
    "import seaborn as sns\n",
    "import os\n",
    "import matplotlib.pyplot as plt\n",
    "from sklearn.model_selection import train_test_split\n",
    "from sklearn.preprocessing import MinMaxScaler\n",
    "import scipy.stats as stats\n",
    "from sklearn.cluster import KMeans\n",
    "\n",
    "import wrangle as w\n",
    "\n",
    "import model as m\n",
    "import env"
   ]
  },
  {
   "cell_type": "code",
   "execution_count": 2,
   "id": "b6f254b8",
   "metadata": {},
   "outputs": [],
   "source": [
    "df = w.get_zillow_data()"
   ]
  },
  {
   "cell_type": "code",
   "execution_count": 3,
   "id": "c27e551e",
   "metadata": {},
   "outputs": [
    {
     "data": {
      "text/plain": [
       "count    52319.000000\n",
       "mean         0.018136\n",
       "std          0.176904\n",
       "min         -4.655420\n",
       "25%         -0.024702\n",
       "50%          0.006935\n",
       "75%          0.040599\n",
       "max          5.262999\n",
       "Name: log_error, dtype: float64"
      ]
     },
     "execution_count": 3,
     "metadata": {},
     "output_type": "execute_result"
    }
   ],
   "source": [
    "df.log_error.describe()"
   ]
  },
  {
   "cell_type": "code",
   "execution_count": 4,
   "id": "829ee060",
   "metadata": {},
   "outputs": [],
   "source": [
    "df= w.zillow_prep(df)"
   ]
  },
  {
   "cell_type": "code",
   "execution_count": 6,
   "id": "aad78b12",
   "metadata": {
    "scrolled": true
   },
   "outputs": [
    {
     "data": {
      "text/plain": [
       "(50293, 35)"
      ]
     },
     "execution_count": 6,
     "metadata": {},
     "output_type": "execute_result"
    }
   ],
   "source": [
    "df.shape"
   ]
  },
  {
   "cell_type": "code",
   "execution_count": 7,
   "id": "d4aded35",
   "metadata": {
    "scrolled": true
   },
   "outputs": [],
   "source": [
    "train,validate,test, X_train, X_validate, X_test, y_train, y_validate, y_test = w.split(df, 'log_error')"
   ]
  },
  {
   "cell_type": "code",
   "execution_count": 8,
   "id": "908d32fe",
   "metadata": {
    "scrolled": true
   },
   "outputs": [],
   "source": [
    "train, test, validate, train_scaled, validate_scaled, test_scaled = m.create_cluster('cluster_loc', train,validate, test,['longitude', 'latitude','tax_value'],4)\n"
   ]
  },
  {
   "cell_type": "code",
   "execution_count": 9,
   "id": "5b1331f7",
   "metadata": {},
   "outputs": [
    {
     "data": {
      "text/html": [
       "<div>\n",
       "<style scoped>\n",
       "    .dataframe tbody tr th:only-of-type {\n",
       "        vertical-align: middle;\n",
       "    }\n",
       "\n",
       "    .dataframe tbody tr th {\n",
       "        vertical-align: top;\n",
       "    }\n",
       "\n",
       "    .dataframe thead th {\n",
       "        text-align: right;\n",
       "    }\n",
       "</style>\n",
       "<table border=\"1\" class=\"dataframe\">\n",
       "  <thead>\n",
       "    <tr style=\"text-align: right;\">\n",
       "      <th></th>\n",
       "      <th>parcelid</th>\n",
       "      <th>bedrooms</th>\n",
       "      <th>bathrooms</th>\n",
       "      <th>calculatedbathnbr</th>\n",
       "      <th>fullbathcnt</th>\n",
       "      <th>age</th>\n",
       "      <th>yearbuilt</th>\n",
       "      <th>has_basement</th>\n",
       "      <th>has_deck</th>\n",
       "      <th>has_fireplace</th>\n",
       "      <th>...</th>\n",
       "      <th>tax_value</th>\n",
       "      <th>tax_value_land</th>\n",
       "      <th>taxamount</th>\n",
       "      <th>log_error</th>\n",
       "      <th>abs_log_error</th>\n",
       "      <th>cluster_loc</th>\n",
       "      <th>cluster_loc_0</th>\n",
       "      <th>cluster_loc_1</th>\n",
       "      <th>cluster_loc_2</th>\n",
       "      <th>cluster_loc_3</th>\n",
       "    </tr>\n",
       "  </thead>\n",
       "  <tbody>\n",
       "    <tr>\n",
       "      <th>46594</th>\n",
       "      <td>12741442</td>\n",
       "      <td>3.0</td>\n",
       "      <td>2.0</td>\n",
       "      <td>2.0</td>\n",
       "      <td>2.0</td>\n",
       "      <td>61.0</td>\n",
       "      <td>1956.0</td>\n",
       "      <td>0</td>\n",
       "      <td>0</td>\n",
       "      <td>0</td>\n",
       "      <td>...</td>\n",
       "      <td>327117.0</td>\n",
       "      <td>219824.0</td>\n",
       "      <td>4224.73</td>\n",
       "      <td>0.037870</td>\n",
       "      <td>0.037870</td>\n",
       "      <td>1</td>\n",
       "      <td>0</td>\n",
       "      <td>1</td>\n",
       "      <td>0</td>\n",
       "      <td>0</td>\n",
       "    </tr>\n",
       "    <tr>\n",
       "      <th>5692</th>\n",
       "      <td>11283097</td>\n",
       "      <td>4.0</td>\n",
       "      <td>2.0</td>\n",
       "      <td>2.0</td>\n",
       "      <td>2.0</td>\n",
       "      <td>29.0</td>\n",
       "      <td>1988.0</td>\n",
       "      <td>0</td>\n",
       "      <td>0</td>\n",
       "      <td>0</td>\n",
       "      <td>...</td>\n",
       "      <td>198400.0</td>\n",
       "      <td>49700.0</td>\n",
       "      <td>3225.07</td>\n",
       "      <td>0.122093</td>\n",
       "      <td>0.122093</td>\n",
       "      <td>3</td>\n",
       "      <td>0</td>\n",
       "      <td>0</td>\n",
       "      <td>0</td>\n",
       "      <td>1</td>\n",
       "    </tr>\n",
       "    <tr>\n",
       "      <th>41034</th>\n",
       "      <td>14262082</td>\n",
       "      <td>3.0</td>\n",
       "      <td>1.5</td>\n",
       "      <td>1.5</td>\n",
       "      <td>1.0</td>\n",
       "      <td>59.0</td>\n",
       "      <td>1958.0</td>\n",
       "      <td>0</td>\n",
       "      <td>0</td>\n",
       "      <td>0</td>\n",
       "      <td>...</td>\n",
       "      <td>130820.0</td>\n",
       "      <td>82481.0</td>\n",
       "      <td>1726.24</td>\n",
       "      <td>0.075170</td>\n",
       "      <td>0.075170</td>\n",
       "      <td>1</td>\n",
       "      <td>0</td>\n",
       "      <td>1</td>\n",
       "      <td>0</td>\n",
       "      <td>0</td>\n",
       "    </tr>\n",
       "    <tr>\n",
       "      <th>17083</th>\n",
       "      <td>12050297</td>\n",
       "      <td>2.0</td>\n",
       "      <td>1.0</td>\n",
       "      <td>1.0</td>\n",
       "      <td>1.0</td>\n",
       "      <td>91.0</td>\n",
       "      <td>1926.0</td>\n",
       "      <td>0</td>\n",
       "      <td>0</td>\n",
       "      <td>0</td>\n",
       "      <td>...</td>\n",
       "      <td>68089.0</td>\n",
       "      <td>40359.0</td>\n",
       "      <td>770.05</td>\n",
       "      <td>-0.050191</td>\n",
       "      <td>0.050191</td>\n",
       "      <td>3</td>\n",
       "      <td>0</td>\n",
       "      <td>0</td>\n",
       "      <td>0</td>\n",
       "      <td>1</td>\n",
       "    </tr>\n",
       "    <tr>\n",
       "      <th>31106</th>\n",
       "      <td>12689873</td>\n",
       "      <td>4.0</td>\n",
       "      <td>5.0</td>\n",
       "      <td>5.0</td>\n",
       "      <td>5.0</td>\n",
       "      <td>27.0</td>\n",
       "      <td>1990.0</td>\n",
       "      <td>0</td>\n",
       "      <td>0</td>\n",
       "      <td>0</td>\n",
       "      <td>...</td>\n",
       "      <td>1914031.0</td>\n",
       "      <td>1429595.0</td>\n",
       "      <td>22330.56</td>\n",
       "      <td>0.077013</td>\n",
       "      <td>0.077013</td>\n",
       "      <td>0</td>\n",
       "      <td>1</td>\n",
       "      <td>0</td>\n",
       "      <td>0</td>\n",
       "      <td>0</td>\n",
       "    </tr>\n",
       "    <tr>\n",
       "      <th>...</th>\n",
       "      <td>...</td>\n",
       "      <td>...</td>\n",
       "      <td>...</td>\n",
       "      <td>...</td>\n",
       "      <td>...</td>\n",
       "      <td>...</td>\n",
       "      <td>...</td>\n",
       "      <td>...</td>\n",
       "      <td>...</td>\n",
       "      <td>...</td>\n",
       "      <td>...</td>\n",
       "      <td>...</td>\n",
       "      <td>...</td>\n",
       "      <td>...</td>\n",
       "      <td>...</td>\n",
       "      <td>...</td>\n",
       "      <td>...</td>\n",
       "      <td>...</td>\n",
       "      <td>...</td>\n",
       "      <td>...</td>\n",
       "      <td>...</td>\n",
       "    </tr>\n",
       "    <tr>\n",
       "      <th>45242</th>\n",
       "      <td>12718148</td>\n",
       "      <td>3.0</td>\n",
       "      <td>1.0</td>\n",
       "      <td>1.0</td>\n",
       "      <td>1.0</td>\n",
       "      <td>64.0</td>\n",
       "      <td>1953.0</td>\n",
       "      <td>0</td>\n",
       "      <td>0</td>\n",
       "      <td>0</td>\n",
       "      <td>...</td>\n",
       "      <td>70229.0</td>\n",
       "      <td>30038.0</td>\n",
       "      <td>1363.71</td>\n",
       "      <td>0.026142</td>\n",
       "      <td>0.026142</td>\n",
       "      <td>1</td>\n",
       "      <td>0</td>\n",
       "      <td>1</td>\n",
       "      <td>0</td>\n",
       "      <td>0</td>\n",
       "    </tr>\n",
       "    <tr>\n",
       "      <th>11882</th>\n",
       "      <td>12040330</td>\n",
       "      <td>3.0</td>\n",
       "      <td>1.0</td>\n",
       "      <td>1.0</td>\n",
       "      <td>1.0</td>\n",
       "      <td>69.0</td>\n",
       "      <td>1948.0</td>\n",
       "      <td>0</td>\n",
       "      <td>0</td>\n",
       "      <td>0</td>\n",
       "      <td>...</td>\n",
       "      <td>573005.0</td>\n",
       "      <td>458405.0</td>\n",
       "      <td>6225.34</td>\n",
       "      <td>-0.030627</td>\n",
       "      <td>0.030627</td>\n",
       "      <td>3</td>\n",
       "      <td>0</td>\n",
       "      <td>0</td>\n",
       "      <td>0</td>\n",
       "      <td>1</td>\n",
       "    </tr>\n",
       "    <tr>\n",
       "      <th>3384</th>\n",
       "      <td>10858066</td>\n",
       "      <td>2.0</td>\n",
       "      <td>1.0</td>\n",
       "      <td>1.0</td>\n",
       "      <td>1.0</td>\n",
       "      <td>69.0</td>\n",
       "      <td>1948.0</td>\n",
       "      <td>0</td>\n",
       "      <td>0</td>\n",
       "      <td>0</td>\n",
       "      <td>...</td>\n",
       "      <td>140316.0</td>\n",
       "      <td>98225.0</td>\n",
       "      <td>1826.38</td>\n",
       "      <td>0.208652</td>\n",
       "      <td>0.208652</td>\n",
       "      <td>3</td>\n",
       "      <td>0</td>\n",
       "      <td>0</td>\n",
       "      <td>0</td>\n",
       "      <td>1</td>\n",
       "    </tr>\n",
       "    <tr>\n",
       "      <th>28632</th>\n",
       "      <td>10866967</td>\n",
       "      <td>6.0</td>\n",
       "      <td>7.0</td>\n",
       "      <td>7.0</td>\n",
       "      <td>7.0</td>\n",
       "      <td>58.0</td>\n",
       "      <td>1959.0</td>\n",
       "      <td>0</td>\n",
       "      <td>0</td>\n",
       "      <td>0</td>\n",
       "      <td>...</td>\n",
       "      <td>1689475.0</td>\n",
       "      <td>1015877.0</td>\n",
       "      <td>20564.61</td>\n",
       "      <td>0.088304</td>\n",
       "      <td>0.088304</td>\n",
       "      <td>0</td>\n",
       "      <td>1</td>\n",
       "      <td>0</td>\n",
       "      <td>0</td>\n",
       "      <td>0</td>\n",
       "    </tr>\n",
       "    <tr>\n",
       "      <th>27910</th>\n",
       "      <td>12379828</td>\n",
       "      <td>4.0</td>\n",
       "      <td>2.0</td>\n",
       "      <td>2.0</td>\n",
       "      <td>2.0</td>\n",
       "      <td>78.0</td>\n",
       "      <td>1939.0</td>\n",
       "      <td>0</td>\n",
       "      <td>0</td>\n",
       "      <td>0</td>\n",
       "      <td>...</td>\n",
       "      <td>264034.0</td>\n",
       "      <td>66666.0</td>\n",
       "      <td>3757.18</td>\n",
       "      <td>-0.094011</td>\n",
       "      <td>0.094011</td>\n",
       "      <td>1</td>\n",
       "      <td>0</td>\n",
       "      <td>1</td>\n",
       "      <td>0</td>\n",
       "      <td>0</td>\n",
       "    </tr>\n",
       "  </tbody>\n",
       "</table>\n",
       "<p>28163 rows × 40 columns</p>\n",
       "</div>"
      ],
      "text/plain": [
       "       parcelid  bedrooms  bathrooms  calculatedbathnbr  fullbathcnt   age  \\\n",
       "46594  12741442       3.0        2.0                2.0          2.0  61.0   \n",
       "5692   11283097       4.0        2.0                2.0          2.0  29.0   \n",
       "41034  14262082       3.0        1.5                1.5          1.0  59.0   \n",
       "17083  12050297       2.0        1.0                1.0          1.0  91.0   \n",
       "31106  12689873       4.0        5.0                5.0          5.0  27.0   \n",
       "...         ...       ...        ...                ...          ...   ...   \n",
       "45242  12718148       3.0        1.0                1.0          1.0  64.0   \n",
       "11882  12040330       3.0        1.0                1.0          1.0  69.0   \n",
       "3384   10858066       2.0        1.0                1.0          1.0  69.0   \n",
       "28632  10866967       6.0        7.0                7.0          7.0  58.0   \n",
       "27910  12379828       4.0        2.0                2.0          2.0  78.0   \n",
       "\n",
       "       yearbuilt  has_basement  has_deck  has_fireplace  ...  tax_value  \\\n",
       "46594     1956.0             0         0              0  ...   327117.0   \n",
       "5692      1988.0             0         0              0  ...   198400.0   \n",
       "41034     1958.0             0         0              0  ...   130820.0   \n",
       "17083     1926.0             0         0              0  ...    68089.0   \n",
       "31106     1990.0             0         0              0  ...  1914031.0   \n",
       "...          ...           ...       ...            ...  ...        ...   \n",
       "45242     1953.0             0         0              0  ...    70229.0   \n",
       "11882     1948.0             0         0              0  ...   573005.0   \n",
       "3384      1948.0             0         0              0  ...   140316.0   \n",
       "28632     1959.0             0         0              0  ...  1689475.0   \n",
       "27910     1939.0             0         0              0  ...   264034.0   \n",
       "\n",
       "       tax_value_land  taxamount  log_error  abs_log_error  cluster_loc  \\\n",
       "46594        219824.0    4224.73   0.037870       0.037870            1   \n",
       "5692          49700.0    3225.07   0.122093       0.122093            3   \n",
       "41034         82481.0    1726.24   0.075170       0.075170            1   \n",
       "17083         40359.0     770.05  -0.050191       0.050191            3   \n",
       "31106       1429595.0   22330.56   0.077013       0.077013            0   \n",
       "...               ...        ...        ...            ...          ...   \n",
       "45242         30038.0    1363.71   0.026142       0.026142            1   \n",
       "11882        458405.0    6225.34  -0.030627       0.030627            3   \n",
       "3384          98225.0    1826.38   0.208652       0.208652            3   \n",
       "28632       1015877.0   20564.61   0.088304       0.088304            0   \n",
       "27910         66666.0    3757.18  -0.094011       0.094011            1   \n",
       "\n",
       "      cluster_loc_0 cluster_loc_1  cluster_loc_2  cluster_loc_3  \n",
       "46594             0             1              0              0  \n",
       "5692              0             0              0              1  \n",
       "41034             0             1              0              0  \n",
       "17083             0             0              0              1  \n",
       "31106             1             0              0              0  \n",
       "...             ...           ...            ...            ...  \n",
       "45242             0             1              0              0  \n",
       "11882             0             0              0              1  \n",
       "3384              0             0              0              1  \n",
       "28632             1             0              0              0  \n",
       "27910             0             1              0              0  \n",
       "\n",
       "[28163 rows x 40 columns]"
      ]
     },
     "execution_count": 9,
     "metadata": {},
     "output_type": "execute_result"
    }
   ],
   "source": [
    "train"
   ]
  },
  {
   "cell_type": "code",
   "execution_count": 13,
   "id": "c18bb9b3",
   "metadata": {
    "scrolled": true
   },
   "outputs": [],
   "source": [
    "train, test, validate, train_scaled, validate_scaled, test_scaled = m.create_cluster('cluster_price_size', train,validate, test,['taxamount', 'sqft', 'lot_sqft'],4)\n"
   ]
  },
  {
   "cell_type": "code",
   "execution_count": 14,
   "id": "498ad86a",
   "metadata": {
    "scrolled": true
   },
   "outputs": [],
   "source": [
    "train, test, validate, train_scaled, validate_scaled, test_scaled = m.create_cluster('cluster_delinquency_value', train,validate, test,['tax_value', 'sqft', 'lot_sqft','has_taxdelinquency'],4)\n"
   ]
  },
  {
   "cell_type": "code",
   "execution_count": 15,
   "id": "2f95df0b",
   "metadata": {
    "scrolled": true
   },
   "outputs": [
    {
     "data": {
      "text/html": [
       "<div>\n",
       "<style scoped>\n",
       "    .dataframe tbody tr th:only-of-type {\n",
       "        vertical-align: middle;\n",
       "    }\n",
       "\n",
       "    .dataframe tbody tr th {\n",
       "        vertical-align: top;\n",
       "    }\n",
       "\n",
       "    .dataframe thead th {\n",
       "        text-align: right;\n",
       "    }\n",
       "</style>\n",
       "<table border=\"1\" class=\"dataframe\">\n",
       "  <thead>\n",
       "    <tr style=\"text-align: right;\">\n",
       "      <th></th>\n",
       "      <th>parcelid</th>\n",
       "      <th>bedrooms</th>\n",
       "      <th>bathrooms</th>\n",
       "      <th>calculatedbathnbr</th>\n",
       "      <th>fullbathcnt</th>\n",
       "      <th>age</th>\n",
       "      <th>yearbuilt</th>\n",
       "      <th>has_basement</th>\n",
       "      <th>has_deck</th>\n",
       "      <th>has_fireplace</th>\n",
       "      <th>...</th>\n",
       "      <th>cluster_price_size</th>\n",
       "      <th>cluster_price_size_0</th>\n",
       "      <th>cluster_price_size_1</th>\n",
       "      <th>cluster_price_size_2</th>\n",
       "      <th>cluster_price_size_3</th>\n",
       "      <th>cluster_delinquency_value</th>\n",
       "      <th>cluster_delinquency_value_0</th>\n",
       "      <th>cluster_delinquency_value_1</th>\n",
       "      <th>cluster_delinquency_value_2</th>\n",
       "      <th>cluster_delinquency_value_3</th>\n",
       "    </tr>\n",
       "  </thead>\n",
       "  <tbody>\n",
       "    <tr>\n",
       "      <th>46594</th>\n",
       "      <td>12741442</td>\n",
       "      <td>3.0</td>\n",
       "      <td>2.0</td>\n",
       "      <td>2.0</td>\n",
       "      <td>2.0</td>\n",
       "      <td>61.0</td>\n",
       "      <td>1956.0</td>\n",
       "      <td>0</td>\n",
       "      <td>0</td>\n",
       "      <td>0</td>\n",
       "      <td>...</td>\n",
       "      <td>1</td>\n",
       "      <td>0</td>\n",
       "      <td>1</td>\n",
       "      <td>0</td>\n",
       "      <td>0</td>\n",
       "      <td>0</td>\n",
       "      <td>1</td>\n",
       "      <td>0</td>\n",
       "      <td>0</td>\n",
       "      <td>0</td>\n",
       "    </tr>\n",
       "    <tr>\n",
       "      <th>5692</th>\n",
       "      <td>11283097</td>\n",
       "      <td>4.0</td>\n",
       "      <td>2.0</td>\n",
       "      <td>2.0</td>\n",
       "      <td>2.0</td>\n",
       "      <td>29.0</td>\n",
       "      <td>1988.0</td>\n",
       "      <td>0</td>\n",
       "      <td>0</td>\n",
       "      <td>0</td>\n",
       "      <td>...</td>\n",
       "      <td>2</td>\n",
       "      <td>0</td>\n",
       "      <td>0</td>\n",
       "      <td>1</td>\n",
       "      <td>0</td>\n",
       "      <td>0</td>\n",
       "      <td>1</td>\n",
       "      <td>0</td>\n",
       "      <td>0</td>\n",
       "      <td>0</td>\n",
       "    </tr>\n",
       "    <tr>\n",
       "      <th>41034</th>\n",
       "      <td>14262082</td>\n",
       "      <td>3.0</td>\n",
       "      <td>1.5</td>\n",
       "      <td>1.5</td>\n",
       "      <td>1.0</td>\n",
       "      <td>59.0</td>\n",
       "      <td>1958.0</td>\n",
       "      <td>0</td>\n",
       "      <td>0</td>\n",
       "      <td>0</td>\n",
       "      <td>...</td>\n",
       "      <td>1</td>\n",
       "      <td>0</td>\n",
       "      <td>1</td>\n",
       "      <td>0</td>\n",
       "      <td>0</td>\n",
       "      <td>0</td>\n",
       "      <td>1</td>\n",
       "      <td>0</td>\n",
       "      <td>0</td>\n",
       "      <td>0</td>\n",
       "    </tr>\n",
       "    <tr>\n",
       "      <th>17083</th>\n",
       "      <td>12050297</td>\n",
       "      <td>2.0</td>\n",
       "      <td>1.0</td>\n",
       "      <td>1.0</td>\n",
       "      <td>1.0</td>\n",
       "      <td>91.0</td>\n",
       "      <td>1926.0</td>\n",
       "      <td>0</td>\n",
       "      <td>0</td>\n",
       "      <td>0</td>\n",
       "      <td>...</td>\n",
       "      <td>1</td>\n",
       "      <td>0</td>\n",
       "      <td>1</td>\n",
       "      <td>0</td>\n",
       "      <td>0</td>\n",
       "      <td>0</td>\n",
       "      <td>1</td>\n",
       "      <td>0</td>\n",
       "      <td>0</td>\n",
       "      <td>0</td>\n",
       "    </tr>\n",
       "    <tr>\n",
       "      <th>31106</th>\n",
       "      <td>12689873</td>\n",
       "      <td>4.0</td>\n",
       "      <td>5.0</td>\n",
       "      <td>5.0</td>\n",
       "      <td>5.0</td>\n",
       "      <td>27.0</td>\n",
       "      <td>1990.0</td>\n",
       "      <td>0</td>\n",
       "      <td>0</td>\n",
       "      <td>0</td>\n",
       "      <td>...</td>\n",
       "      <td>0</td>\n",
       "      <td>1</td>\n",
       "      <td>0</td>\n",
       "      <td>0</td>\n",
       "      <td>0</td>\n",
       "      <td>2</td>\n",
       "      <td>0</td>\n",
       "      <td>0</td>\n",
       "      <td>1</td>\n",
       "      <td>0</td>\n",
       "    </tr>\n",
       "    <tr>\n",
       "      <th>...</th>\n",
       "      <td>...</td>\n",
       "      <td>...</td>\n",
       "      <td>...</td>\n",
       "      <td>...</td>\n",
       "      <td>...</td>\n",
       "      <td>...</td>\n",
       "      <td>...</td>\n",
       "      <td>...</td>\n",
       "      <td>...</td>\n",
       "      <td>...</td>\n",
       "      <td>...</td>\n",
       "      <td>...</td>\n",
       "      <td>...</td>\n",
       "      <td>...</td>\n",
       "      <td>...</td>\n",
       "      <td>...</td>\n",
       "      <td>...</td>\n",
       "      <td>...</td>\n",
       "      <td>...</td>\n",
       "      <td>...</td>\n",
       "      <td>...</td>\n",
       "    </tr>\n",
       "    <tr>\n",
       "      <th>45242</th>\n",
       "      <td>12718148</td>\n",
       "      <td>3.0</td>\n",
       "      <td>1.0</td>\n",
       "      <td>1.0</td>\n",
       "      <td>1.0</td>\n",
       "      <td>64.0</td>\n",
       "      <td>1953.0</td>\n",
       "      <td>0</td>\n",
       "      <td>0</td>\n",
       "      <td>0</td>\n",
       "      <td>...</td>\n",
       "      <td>1</td>\n",
       "      <td>0</td>\n",
       "      <td>1</td>\n",
       "      <td>0</td>\n",
       "      <td>0</td>\n",
       "      <td>0</td>\n",
       "      <td>1</td>\n",
       "      <td>0</td>\n",
       "      <td>0</td>\n",
       "      <td>0</td>\n",
       "    </tr>\n",
       "    <tr>\n",
       "      <th>11882</th>\n",
       "      <td>12040330</td>\n",
       "      <td>3.0</td>\n",
       "      <td>1.0</td>\n",
       "      <td>1.0</td>\n",
       "      <td>1.0</td>\n",
       "      <td>69.0</td>\n",
       "      <td>1948.0</td>\n",
       "      <td>0</td>\n",
       "      <td>0</td>\n",
       "      <td>0</td>\n",
       "      <td>...</td>\n",
       "      <td>1</td>\n",
       "      <td>0</td>\n",
       "      <td>1</td>\n",
       "      <td>0</td>\n",
       "      <td>0</td>\n",
       "      <td>1</td>\n",
       "      <td>0</td>\n",
       "      <td>1</td>\n",
       "      <td>0</td>\n",
       "      <td>0</td>\n",
       "    </tr>\n",
       "    <tr>\n",
       "      <th>3384</th>\n",
       "      <td>10858066</td>\n",
       "      <td>2.0</td>\n",
       "      <td>1.0</td>\n",
       "      <td>1.0</td>\n",
       "      <td>1.0</td>\n",
       "      <td>69.0</td>\n",
       "      <td>1948.0</td>\n",
       "      <td>0</td>\n",
       "      <td>0</td>\n",
       "      <td>0</td>\n",
       "      <td>...</td>\n",
       "      <td>1</td>\n",
       "      <td>0</td>\n",
       "      <td>1</td>\n",
       "      <td>0</td>\n",
       "      <td>0</td>\n",
       "      <td>0</td>\n",
       "      <td>1</td>\n",
       "      <td>0</td>\n",
       "      <td>0</td>\n",
       "      <td>0</td>\n",
       "    </tr>\n",
       "    <tr>\n",
       "      <th>28632</th>\n",
       "      <td>10866967</td>\n",
       "      <td>6.0</td>\n",
       "      <td>7.0</td>\n",
       "      <td>7.0</td>\n",
       "      <td>7.0</td>\n",
       "      <td>58.0</td>\n",
       "      <td>1959.0</td>\n",
       "      <td>0</td>\n",
       "      <td>0</td>\n",
       "      <td>0</td>\n",
       "      <td>...</td>\n",
       "      <td>0</td>\n",
       "      <td>1</td>\n",
       "      <td>0</td>\n",
       "      <td>0</td>\n",
       "      <td>0</td>\n",
       "      <td>2</td>\n",
       "      <td>0</td>\n",
       "      <td>0</td>\n",
       "      <td>1</td>\n",
       "      <td>0</td>\n",
       "    </tr>\n",
       "    <tr>\n",
       "      <th>27910</th>\n",
       "      <td>12379828</td>\n",
       "      <td>4.0</td>\n",
       "      <td>2.0</td>\n",
       "      <td>2.0</td>\n",
       "      <td>2.0</td>\n",
       "      <td>78.0</td>\n",
       "      <td>1939.0</td>\n",
       "      <td>0</td>\n",
       "      <td>0</td>\n",
       "      <td>0</td>\n",
       "      <td>...</td>\n",
       "      <td>2</td>\n",
       "      <td>0</td>\n",
       "      <td>0</td>\n",
       "      <td>1</td>\n",
       "      <td>0</td>\n",
       "      <td>0</td>\n",
       "      <td>1</td>\n",
       "      <td>0</td>\n",
       "      <td>0</td>\n",
       "      <td>0</td>\n",
       "    </tr>\n",
       "  </tbody>\n",
       "</table>\n",
       "<p>28163 rows × 50 columns</p>\n",
       "</div>"
      ],
      "text/plain": [
       "       parcelid  bedrooms  bathrooms  calculatedbathnbr  fullbathcnt   age  \\\n",
       "46594  12741442       3.0        2.0                2.0          2.0  61.0   \n",
       "5692   11283097       4.0        2.0                2.0          2.0  29.0   \n",
       "41034  14262082       3.0        1.5                1.5          1.0  59.0   \n",
       "17083  12050297       2.0        1.0                1.0          1.0  91.0   \n",
       "31106  12689873       4.0        5.0                5.0          5.0  27.0   \n",
       "...         ...       ...        ...                ...          ...   ...   \n",
       "45242  12718148       3.0        1.0                1.0          1.0  64.0   \n",
       "11882  12040330       3.0        1.0                1.0          1.0  69.0   \n",
       "3384   10858066       2.0        1.0                1.0          1.0  69.0   \n",
       "28632  10866967       6.0        7.0                7.0          7.0  58.0   \n",
       "27910  12379828       4.0        2.0                2.0          2.0  78.0   \n",
       "\n",
       "       yearbuilt  has_basement  has_deck  has_fireplace  ...  \\\n",
       "46594     1956.0             0         0              0  ...   \n",
       "5692      1988.0             0         0              0  ...   \n",
       "41034     1958.0             0         0              0  ...   \n",
       "17083     1926.0             0         0              0  ...   \n",
       "31106     1990.0             0         0              0  ...   \n",
       "...          ...           ...       ...            ...  ...   \n",
       "45242     1953.0             0         0              0  ...   \n",
       "11882     1948.0             0         0              0  ...   \n",
       "3384      1948.0             0         0              0  ...   \n",
       "28632     1959.0             0         0              0  ...   \n",
       "27910     1939.0             0         0              0  ...   \n",
       "\n",
       "       cluster_price_size  cluster_price_size_0  cluster_price_size_1  \\\n",
       "46594                   1                     0                     1   \n",
       "5692                    2                     0                     0   \n",
       "41034                   1                     0                     1   \n",
       "17083                   1                     0                     1   \n",
       "31106                   0                     1                     0   \n",
       "...                   ...                   ...                   ...   \n",
       "45242                   1                     0                     1   \n",
       "11882                   1                     0                     1   \n",
       "3384                    1                     0                     1   \n",
       "28632                   0                     1                     0   \n",
       "27910                   2                     0                     0   \n",
       "\n",
       "       cluster_price_size_2  cluster_price_size_3  cluster_delinquency_value  \\\n",
       "46594                     0                     0                          0   \n",
       "5692                      1                     0                          0   \n",
       "41034                     0                     0                          0   \n",
       "17083                     0                     0                          0   \n",
       "31106                     0                     0                          2   \n",
       "...                     ...                   ...                        ...   \n",
       "45242                     0                     0                          0   \n",
       "11882                     0                     0                          1   \n",
       "3384                      0                     0                          0   \n",
       "28632                     0                     0                          2   \n",
       "27910                     1                     0                          0   \n",
       "\n",
       "      cluster_delinquency_value_0 cluster_delinquency_value_1  \\\n",
       "46594                           1                           0   \n",
       "5692                            1                           0   \n",
       "41034                           1                           0   \n",
       "17083                           1                           0   \n",
       "31106                           0                           0   \n",
       "...                           ...                         ...   \n",
       "45242                           1                           0   \n",
       "11882                           0                           1   \n",
       "3384                            1                           0   \n",
       "28632                           0                           0   \n",
       "27910                           1                           0   \n",
       "\n",
       "       cluster_delinquency_value_2  cluster_delinquency_value_3  \n",
       "46594                            0                            0  \n",
       "5692                             0                            0  \n",
       "41034                            0                            0  \n",
       "17083                            0                            0  \n",
       "31106                            1                            0  \n",
       "...                            ...                          ...  \n",
       "45242                            0                            0  \n",
       "11882                            0                            0  \n",
       "3384                             0                            0  \n",
       "28632                            1                            0  \n",
       "27910                            0                            0  \n",
       "\n",
       "[28163 rows x 50 columns]"
      ]
     },
     "execution_count": 15,
     "metadata": {},
     "output_type": "execute_result"
    }
   ],
   "source": [
    "train"
   ]
  },
  {
   "cell_type": "markdown",
   "id": "44ca287e",
   "metadata": {},
   "source": [
    "## Question 1: Is threre any difference in log_error in homes with less than or equal to 5000sqft and homes above 5000sqft"
   ]
  },
  {
   "cell_type": "code",
   "execution_count": null,
   "id": "fa1dd86e",
   "metadata": {},
   "outputs": [],
   "source": [
    "sns.scatterplot(y='sqft', x='log_error',\n",
    "                data=train[train.sqft<= 5000], color='orange')\n",
    "\n",
    "sns.scatterplot(y='sqft', x='log_error',\n",
    "                data=train[train.sqft> 5000], \n",
    "                color='purple')\n",
    "\n",
    "plt.title(\"Does squarefeet make a diffirence? \")\n",
    "plt.show()"
   ]
  },
  {
   "cell_type": "code",
   "execution_count": null,
   "id": "a28dc110",
   "metadata": {
    "scrolled": true
   },
   "outputs": [],
   "source": [
    "sns.scatterplot(x='sqft', y='abs_log_error',\n",
    "                data=train, hue= train.cluster_price_size)\n",
    "\n",
    "\n",
    "\n",
    "\n",
    "plt.title(\"Does squarefeet make a diffirence? \")\n",
    "plt.show()"
   ]
  },
  {
   "cell_type": "code",
   "execution_count": null,
   "id": "2a2661ff",
   "metadata": {},
   "outputs": [],
   "source": [
    "\n",
    "#running stats test for these-first checking variance\n",
    "stat, p = levene(loc_zero.log_error, loc_one.log_error, loc_two.log_error, loc_three.log_error)\n",
    "stat, p\n"
   ]
  },
  {
   "cell_type": "code",
   "execution_count": null,
   "id": "01b0e3d8",
   "metadata": {},
   "outputs": [],
   "source": []
  },
  {
   "cell_type": "code",
   "execution_count": null,
   "id": "451ba17a",
   "metadata": {},
   "outputs": [],
   "source": []
  },
  {
   "cell_type": "code",
   "execution_count": null,
   "id": "cba7dd7d",
   "metadata": {},
   "outputs": [],
   "source": []
  },
  {
   "cell_type": "code",
   "execution_count": null,
   "id": "731c97ae",
   "metadata": {},
   "outputs": [],
   "source": []
  },
  {
   "cell_type": "code",
   "execution_count": null,
   "id": "31e22d8b",
   "metadata": {},
   "outputs": [],
   "source": []
  },
  {
   "cell_type": "code",
   "execution_count": null,
   "id": "f4acad49",
   "metadata": {},
   "outputs": [],
   "source": []
  },
  {
   "cell_type": "code",
   "execution_count": null,
   "id": "b8d6c2ed",
   "metadata": {},
   "outputs": [],
   "source": []
  },
  {
   "cell_type": "markdown",
   "id": "3d907052",
   "metadata": {},
   "source": [
    "### clusters 1,2,3 have more abs log error than cluster 0"
   ]
  },
  {
   "cell_type": "code",
   "execution_count": null,
   "id": "d0878662",
   "metadata": {},
   "outputs": [],
   "source": [
    "sns.scatterplot(y='sqft', x='abs_log_error',\n",
    "                data=train, hue= train.cluster_size_optionalfea)\n",
    "\n",
    "\n",
    "\n",
    "\n",
    "plt.title(\"Does squarefeet make a diffirence? \")\n",
    "plt.show()"
   ]
  },
  {
   "cell_type": "markdown",
   "id": "8403c64a",
   "metadata": {},
   "source": [
    "### cluster 2 has more log error and maybe cluster 3"
   ]
  },
  {
   "cell_type": "markdown",
   "id": "797faa3d",
   "metadata": {},
   "source": [
    "**Properties with less than 5,000 sqft seem to have more log error than houses above 5,000 sqft.**"
   ]
  },
  {
   "cell_type": "code",
   "execution_count": null,
   "id": "9d979981",
   "metadata": {},
   "outputs": [],
   "source": [
    "# create bins\n",
    "train['sqft_bin']= pd.cut(train.sqft,[0,5000,19000],labels = ['lessthan_5000sqft', 'morethan_5000sqft'])"
   ]
  },
  {
   "cell_type": "code",
   "execution_count": null,
   "id": "f512b1ca",
   "metadata": {
    "scrolled": false
   },
   "outputs": [],
   "source": [
    "# box plot of the two groups and spending score\n",
    "sns.boxplot(x=train.sqft_bin, y=train.log_error)\n",
    "plt.show()"
   ]
  },
  {
   "cell_type": "code",
   "execution_count": null,
   "id": "27dd723b",
   "metadata": {
    "scrolled": true
   },
   "outputs": [],
   "source": [
    "sns.barplot(x= train.sqft_bin, y= train.abs_log_error);"
   ]
  },
  {
   "cell_type": "markdown",
   "id": "5bd6adde",
   "metadata": {},
   "source": [
    "Homes with less than 5000 sqft seem to have more log error."
   ]
  },
  {
   "cell_type": "code",
   "execution_count": null,
   "id": "b468f312",
   "metadata": {},
   "outputs": [],
   "source": [
    "train.sqft_bin.value_counts()"
   ]
  },
  {
   "cell_type": "code",
   "execution_count": null,
   "id": "dc189ca4",
   "metadata": {
    "scrolled": true
   },
   "outputs": [],
   "source": [
    "stat, p_value = stats.levene(train[train.sqft_bin=='lessthan_5000sqft'].log_error, \n",
    "                             train[train.sqft_bin=='morethan_5000sqft'].log_error,)\n",
    "stat, p_value"
   ]
  },
  {
   "cell_type": "markdown",
   "id": "c93f0db2",
   "metadata": {},
   "source": [
    "$H_0$: Log_error of properties with less than 5000sqft >= Log_error mean of properties with more than 5000sqft\n",
    "\n",
    "$H_a$: Log_error of properties with less than 5000sqft < Log_error mean of properties with more than 5000sqft"
   ]
  },
  {
   "cell_type": "markdown",
   "id": "f3edc83b",
   "metadata": {},
   "source": [
    "# should the test be run against log_erro or absolute log error?"
   ]
  },
  {
   "cell_type": "code",
   "execution_count": null,
   "id": "4ae786e5",
   "metadata": {},
   "outputs": [],
   "source": [
    "sample_less = train[train.sqft_bin=='lessthan_5000sqft']\n",
    "sample_more = train[train.sqft_bin=='morethan_5000sqft']\n",
    "\n",
    "alpha = 0.05\n",
    "t, p = stats.ttest_ind(sample_less.abs_log_error,sample_more.abs_log_error,equal_var = True, random_state=123)\n",
    "\n",
    "print(t, p/2)"
   ]
  },
  {
   "cell_type": "markdown",
   "id": "165d1e44",
   "metadata": {},
   "source": [
    "**Since p/2 is less than 0.05 then we reject null hypothesis. So there is evidence to suggest that the log_error of properties with less than 5000 sqft is more than the log_error than propeties with more than 5000sqft.**"
   ]
  },
  {
   "cell_type": "markdown",
   "id": "b26234b2",
   "metadata": {},
   "source": [
    "##################################redudant#######################################"
   ]
  },
  {
   "cell_type": "markdown",
   "id": "d20caebb",
   "metadata": {},
   "source": [
    "# Custering using price and size"
   ]
  },
  {
   "cell_type": "markdown",
   "id": "43ddd06f",
   "metadata": {},
   "source": [
    "### scale 1st"
   ]
  },
  {
   "cell_type": "code",
   "execution_count": null,
   "id": "9cd58ebd",
   "metadata": {},
   "outputs": [],
   "source": [
    "# the variables that still need scaling\n",
    "columns_to_scale = ['bedrooms', 'bathrooms', 'age', 'sqft', 'lot_sqft', 'tax_value_bldg', 'tax_value', 'tax_value_land',\n",
    "       'taxamount','yearbuilt','has_taxdelinquency']"
   ]
  },
  {
   "cell_type": "code",
   "execution_count": null,
   "id": "17c38aa8",
   "metadata": {},
   "outputs": [],
   "source": [
    "train_scaled, X_validate_scaled,X_test_scaled = w.scale_data(train,X_validate, X_test, columns_to_scale, MinMaxScaler())"
   ]
  },
  {
   "cell_type": "code",
   "execution_count": null,
   "id": "230411f6",
   "metadata": {
    "scrolled": true
   },
   "outputs": [],
   "source": [
    "train_scaled"
   ]
  },
  {
   "cell_type": "markdown",
   "id": "d4af9c7c",
   "metadata": {},
   "source": [
    "# Taxamount _____what i am clustering on price and size"
   ]
  },
  {
   "cell_type": "code",
   "execution_count": null,
   "id": "6d340e2e",
   "metadata": {},
   "outputs": [],
   "source": [
    "# list of variables I will cluster on. \n",
    "cluster_vars = ['taxamount', 'sqft', 'lot_sqft']\n",
    "cluster_name = 'price_and_size_cluster'\n"
   ]
  },
  {
   "cell_type": "code",
   "execution_count": null,
   "id": "4f24bcba",
   "metadata": {
    "scrolled": true
   },
   "outputs": [],
   "source": [
    "X_price_and_size_cluster = train_scaled[['taxamount', 'sqft', 'lot_sqft']]\n",
    "kmeans = KMeans(n_clusters=4)\n",
    "kmeans.fit(X_price_and_size_cluster)\n",
    "train_scaled['cluster'] = kmeans.predict(X_price_and_size_cluster)\n",
    "train['cluster']=kmeans.predict(X_price_and_size_cluster)\n",
    "centroids= pd.DataFrame(kmeans.cluster_centers_, columns=X_price_and_size_cluster.columns)\n",
    "\n",
    "centroids"
   ]
  },
  {
   "cell_type": "code",
   "execution_count": null,
   "id": "efd04134",
   "metadata": {},
   "outputs": [],
   "source": [
    "train_scaled.cluster"
   ]
  },
  {
   "cell_type": "code",
   "execution_count": null,
   "id": "d31392f2",
   "metadata": {},
   "outputs": [],
   "source": [
    "with plt.style.context('seaborn-whitegrid'):\n",
    "    plt.figure(figsize=(9, 6))\n",
    "    pd.Series({k: KMeans(k).fit(X_price_and_size_cluster).inertia_ for k in range(2, 12)}).plot(marker='x')\n",
    "    plt.xticks(range(2, 12))\n",
    "    plt.xlabel('k')\n",
    "    plt.ylabel('inertia')\n",
    "    plt.title('Change in inertia as k increases')"
   ]
  },
  {
   "cell_type": "markdown",
   "id": "80cac47a",
   "metadata": {},
   "source": [
    "k of interest 3, 4, and 5"
   ]
  },
  {
   "cell_type": "code",
   "execution_count": null,
   "id": "df3cb488",
   "metadata": {
    "scrolled": true
   },
   "outputs": [],
   "source": [
    "plt.figure(figsize=(14, 9))\n",
    "\n",
    "for cluster, subset in train_scaled.groupby('cluster'):\n",
    "    plt.scatter(subset.log_error, subset.lot_sqft, label='cluster' + str(cluster), alpha=.6)\n",
    "\n",
    "#centroids.plot.scatter(x='taxamount', y='lot_sqft', c='black', marker='x', s=1000, ax=plt.gca(), label='centroid')\n",
    "\n",
    "plt.legend()\n",
    "plt.xlabel('taxamount')\n",
    "plt.ylabel('sqft')\n",
    "plt.title('Visualizing Cluster Centers')"
   ]
  },
  {
   "cell_type": "code",
   "execution_count": null,
   "id": "fffc54ea",
   "metadata": {},
   "outputs": [],
   "source": [
    "train_scaled.log_error"
   ]
  },
  {
   "cell_type": "code",
   "execution_count": null,
   "id": "01e68f64",
   "metadata": {
    "scrolled": true
   },
   "outputs": [],
   "source": [
    "plt.figure(figsize=(14, 9))\n",
    "\n",
    "for cluster, subset in train_scaled.groupby('cluster'):\n",
    "    plt.scatter(x=subset.taxamount, y=subset.log_error, label='cluster' + str(cluster), alpha=.4)\n",
    "\n",
    "#centroids.plot.scatter(x='taxamount', y='log_error', c='black', marker='x', s=1000, ax=plt.gca(), label='centroid')\n",
    "\n",
    "plt.legend()\n",
    "plt.xlabel('taxamount')\n",
    "plt.ylabel('log error')\n",
    "plt.title('Visualizing Cluster Centers')"
   ]
  },
  {
   "cell_type": "code",
   "execution_count": null,
   "id": "c11df49b",
   "metadata": {},
   "outputs": [],
   "source": [
    "train_scaled.cluster.value_counts()\n"
   ]
  },
  {
   "cell_type": "markdown",
   "id": "0eabb89f",
   "metadata": {},
   "source": [
    "# question? Is there a Relationship between green cluster and log error"
   ]
  },
  {
   "cell_type": "code",
   "execution_count": null,
   "id": "a89110a7",
   "metadata": {},
   "outputs": [],
   "source": [
    "for i in train.columns.to_list():    \n",
    "    sns.scatterplot(x=train.log_error, y=train[i],hue=train.cluster,palette='Accent')\n",
    "    plt.show()"
   ]
  },
  {
   "cell_type": "code",
   "execution_count": null,
   "id": "b43d65dd",
   "metadata": {},
   "outputs": [],
   "source": [
    "fig, axs = plt.subplots(2, 2, figsize=(13, 13), sharex=True, sharey=True)\n",
    "\n",
    "for ax, k in zip(axs.ravel(), range(2, 6)):\n",
    "    clusters = KMeans(k).fit(X_price_and_size_cluster).predict(X_price_and_size_cluster)\n",
    "    ax.scatter(X_price_and_size_cluster.taxamount, X_price_and_size_cluster.sqft, c=clusters)\n",
    "    ax.set(title='k = {}'.format(k), xlabel='taxamount', ylabel='sqft')"
   ]
  },
  {
   "cell_type": "code",
   "execution_count": null,
   "id": "ea8a6bf9",
   "metadata": {},
   "outputs": [],
   "source": [
    "import matplotlib.pyplot as plt\n",
    "from mpl_toolkits.mplot3d import Axes3D\n",
    "import numpy as np\n",
    "\n",
    "x = X_price_and_size_cluster.sqft\n",
    "y = X_price_and_size_cluster.lot_sqft\n",
    "z = X_price_and_size_cluster.taxamount\n",
    "\n",
    "\n",
    "fig = plt.figure(figsize=(6, 6))\n",
    "ax = fig.add_subplot(111, projection='3d')\n",
    "ax.scatter(x, y, z,\n",
    "           linewidths=1, alpha=.7,\n",
    "           edgecolor='k',\n",
    "           s = 200,\n",
    "           c=z)\n",
    "plt.show()"
   ]
  },
  {
   "cell_type": "code",
   "execution_count": null,
   "id": "137f8469",
   "metadata": {},
   "outputs": [],
   "source": [
    "train.tax_value"
   ]
  },
  {
   "cell_type": "markdown",
   "id": "0ab9b7ac",
   "metadata": {},
   "source": [
    "# Tax_value ______what i am clustering on price and size"
   ]
  },
  {
   "cell_type": "code",
   "execution_count": null,
   "id": "ef2ff212",
   "metadata": {},
   "outputs": [],
   "source": [
    "train.columns"
   ]
  },
  {
   "cell_type": "code",
   "execution_count": null,
   "id": "191e40bd",
   "metadata": {},
   "outputs": [],
   "source": [
    "# list of variables I will cluster on. \n",
    "cluster_vars2 = ['tax_value', 'sqft', 'lot_sqft','has_taxdelinquency']\n",
    "cluster_name = 'price_and_size_cluster'\n"
   ]
  },
  {
   "cell_type": "code",
   "execution_count": null,
   "id": "66d6eb25",
   "metadata": {
    "scrolled": false
   },
   "outputs": [],
   "source": [
    "X_tax_value = train_scaled[['tax_value', 'sqft', 'lot_sqft','has_taxdelinquency']]\n",
    "kmeans = KMeans(n_clusters=4)\n",
    "kmeans.fit(X_tax_value)\n",
    "train_scaled['cluster2'] = kmeans.predict(X_tax_value)\n",
    "train['cluster2'] = kmeans.predict(X_tax_value)\n",
    "centroids2= pd.DataFrame(kmeans.cluster_centers_, columns=X_tax_value.columns)\n",
    "\n",
    "centroids2"
   ]
  },
  {
   "cell_type": "code",
   "execution_count": null,
   "id": "f48e5f93",
   "metadata": {},
   "outputs": [],
   "source": [
    "train_scaled.cluster2"
   ]
  },
  {
   "cell_type": "code",
   "execution_count": null,
   "id": "b3219e3c",
   "metadata": {},
   "outputs": [],
   "source": [
    "with plt.style.context('seaborn-whitegrid'):\n",
    "    plt.figure(figsize=(9, 6))\n",
    "    pd.Series({k: KMeans(k).fit(train_scaled[['tax_value', 'sqft', 'lot_sqft','has_taxdelinquency']]).inertia_ for k in range(2, 12)}).plot(marker='x')\n",
    "    plt.xticks(range(2, 12))\n",
    "    plt.xlabel('k')\n",
    "    plt.ylabel('inertia')\n",
    "    plt.title('Change in inertia as k increases')"
   ]
  },
  {
   "cell_type": "markdown",
   "id": "b61c114f",
   "metadata": {},
   "source": [
    "k of interest 3, 4, and 5"
   ]
  },
  {
   "cell_type": "code",
   "execution_count": null,
   "id": "a8e0ac0f",
   "metadata": {
    "scrolled": true
   },
   "outputs": [],
   "source": [
    "plt.figure(figsize=(14, 9))\n",
    "\n",
    "for cluster2, subset in train_scaled.groupby('cluster2'):\n",
    "    plt.scatter(subset.tax_value, subset.has_taxdelinquency, label='cluster2' + str(cluster2), alpha=.6)\n",
    "\n",
    "centroids2.plot.scatter(x='tax_value', y='sqft', c='black', marker='x', s=1000, ax=plt.gca(), label='centroid')\n",
    "\n",
    "plt.legend()\n",
    "plt.xlabel('tax_value')\n",
    "plt.ylabel('sqft')\n",
    "plt.title('Visualizing Cluster Centers')"
   ]
  },
  {
   "cell_type": "code",
   "execution_count": null,
   "id": "2a2652a8",
   "metadata": {
    "scrolled": false
   },
   "outputs": [],
   "source": [
    "sns.histplot(train.log_error,bins=120)"
   ]
  },
  {
   "cell_type": "code",
   "execution_count": null,
   "id": "bfcef841",
   "metadata": {
    "scrolled": false
   },
   "outputs": [],
   "source": [
    "for i in train.columns.to_list():    \n",
    "    sns.scatterplot(x=train.log_error, y=train[i],hue=train.cluster2,palette='Accent')\n",
    "    plt.show()"
   ]
  },
  {
   "cell_type": "code",
   "execution_count": null,
   "id": "57a86ba7",
   "metadata": {
    "scrolled": false
   },
   "outputs": [],
   "source": [
    "sns.scatterplot(x=train.log_error, y=train.sqft,hue=train.cluster2,palette='Accent')"
   ]
  },
  {
   "cell_type": "code",
   "execution_count": null,
   "id": "30436089",
   "metadata": {},
   "outputs": [],
   "source": []
  },
  {
   "cell_type": "code",
   "execution_count": null,
   "id": "2ce6f601",
   "metadata": {},
   "outputs": [],
   "source": [
    "train_scaled.cluster.value_counts()\n"
   ]
  },
  {
   "cell_type": "code",
   "execution_count": null,
   "id": "2c5c8e5e",
   "metadata": {},
   "outputs": [],
   "source": [
    "fig, axs = plt.subplots(3, 3, figsize=(13, 13), sharex=True, sharey=True)\n",
    "\n",
    "for ax, k in zip(axs.ravel(), range(2, 12)):\n",
    "    clusters = KMeans(k).fit(train_scaled[['tax_value', 'sqft', 'lot_sqft','has_taxdelinquency']]).predict(train_scaled[['tax_value', 'sqft', 'lot_sqft','has_taxdelinquency']])\n",
    "    ax.scatter(train_scaled['tax_value'], train_scaled['sqft'], c=clusters)\n",
    "    ax.set(title='k = {}'.format(k), xlabel='taxamount', ylabel='sqft')"
   ]
  },
  {
   "cell_type": "code",
   "execution_count": null,
   "id": "589927cd",
   "metadata": {},
   "outputs": [],
   "source": [
    "import matplotlib.pyplot as plt\n",
    "from mpl_toolkits.mplot3d import Axes3D\n",
    "import numpy as np\n",
    "\n",
    "x = X_price_and_size_cluster.sqft\n",
    "y = X_price_and_size_cluster.lot_sqft\n",
    "z = X_price_and_size_cluster.taxamount\n",
    "\n",
    "\n",
    "fig = plt.figure(figsize=(6, 6))\n",
    "ax = fig.add_subplot(111, projection='3d')\n",
    "ax.scatter(x, y, z,\n",
    "           linewidths=1, alpha=.7,\n",
    "           edgecolor='k',\n",
    "           s = 200,\n",
    "           c=z)\n",
    "plt.show()"
   ]
  },
  {
   "cell_type": "code",
   "execution_count": null,
   "id": "4ba32d5d",
   "metadata": {},
   "outputs": [],
   "source": []
  },
  {
   "cell_type": "code",
   "execution_count": null,
   "id": "4a3f5054",
   "metadata": {},
   "outputs": [],
   "source": []
  },
  {
   "cell_type": "markdown",
   "id": "9422b5ec",
   "metadata": {},
   "source": [
    "#######################*********************************END Redundant ************************************###########################"
   ]
  },
  {
   "cell_type": "markdown",
   "id": "4044a4db",
   "metadata": {},
   "source": [
    "# Question 2: Is there more log_error in Older homes?\n"
   ]
  },
  {
   "cell_type": "code",
   "execution_count": null,
   "id": "76443b78",
   "metadata": {},
   "outputs": [],
   "source": [
    "train.yearbuilt.describe()"
   ]
  },
  {
   "cell_type": "code",
   "execution_count": null,
   "id": "ebf49f2e",
   "metadata": {},
   "outputs": [],
   "source": [
    "sns.histplot(train.yearbuilt)"
   ]
  },
  {
   "cell_type": "code",
   "execution_count": null,
   "id": "7f9066c2",
   "metadata": {
    "scrolled": true
   },
   "outputs": [],
   "source": [
    "sns.scatterplot(y='yearbuilt', x='log_error',\n",
    "                data=train[train.yearbuilt<= 1935], color='orange')\n",
    "\n",
    "sns.scatterplot(y='yearbuilt', x='log_error',\n",
    "                data=train[(train.yearbuilt> 1935) & (train.yearbuilt<=1950)], \n",
    "                color='purple')\n",
    "sns.scatterplot(y='yearbuilt', x='log_error',\n",
    "                data=train[(train.yearbuilt> 1950) & (train.yearbuilt<1979)], \n",
    "                color='blue')\n",
    "sns.scatterplot(y='yearbuilt', x='log_error',\n",
    "                data=train[train.yearbuilt>1979], \n",
    "                color='brown')\n",
    "\n",
    "plt.title(\"Does yearbuilt  make a diffirence? \")\n",
    "plt.show()"
   ]
  },
  {
   "cell_type": "markdown",
   "id": "063dd216",
   "metadata": {},
   "source": [
    "**Yearbuilt does not seem to be an indicator of log_error with current bins. There is error in all ages more so in the years 1940 and above. Maybe if bins where distributed diffirently could lead to new discovery**"
   ]
  },
  {
   "cell_type": "code",
   "execution_count": null,
   "id": "a4529e86",
   "metadata": {},
   "outputs": [],
   "source": [
    "sns.scatterplot(y='yearbuilt', x='log_error',\n",
    "                data=train[train.yearbuilt<= 1935], color='orange')\n",
    "\n",
    "sns.scatterplot(y='yearbuilt', x='log_error',\n",
    "                data=train[train.yearbuilt> 1935], \n",
    "                color='purple')\n",
    "\n",
    "\n",
    "plt.title(\"Does yearbuilt  make a diffirence? \")\n",
    "plt.show()"
   ]
  },
  {
   "cell_type": "code",
   "execution_count": null,
   "id": "d5d0be6c",
   "metadata": {},
   "outputs": [],
   "source": []
  },
  {
   "cell_type": "code",
   "execution_count": null,
   "id": "a2df8501",
   "metadata": {},
   "outputs": [],
   "source": [
    "train['yearbuilt_bins'] = pd.cut(train.yearbuilt, [0,1935,2020],labels = ['homes_lessthan_1935', 'homes_morethan_1935'])\n"
   ]
  },
  {
   "cell_type": "code",
   "execution_count": null,
   "id": "e9fcc71b",
   "metadata": {
    "scrolled": false
   },
   "outputs": [],
   "source": [
    "train.yearbuilt_bins.value_counts()"
   ]
  },
  {
   "cell_type": "code",
   "execution_count": null,
   "id": "c1d9e636",
   "metadata": {
    "scrolled": false
   },
   "outputs": [],
   "source": [
    "sns.scatterplot(data= train, x='log_error', y='yearbuilt', hue=train.cluster_size_optionalfea, palette='Accent',alpha=.6)"
   ]
  },
  {
   "cell_type": "code",
   "execution_count": null,
   "id": "bc566c75",
   "metadata": {},
   "outputs": [],
   "source": []
  },
  {
   "cell_type": "code",
   "execution_count": null,
   "id": "76cd087d",
   "metadata": {
    "scrolled": true
   },
   "outputs": [],
   "source": [
    "sns.relplot(data= train, x='abs_log_error', y='yearbuilt', hue=train.cluster_price_size, palette='Accent')"
   ]
  },
  {
   "cell_type": "markdown",
   "id": "c43bf2b4",
   "metadata": {},
   "source": [
    "### there seems to be more error in cluster 1"
   ]
  },
  {
   "cell_type": "code",
   "execution_count": null,
   "id": "154446f1",
   "metadata": {
    "scrolled": true
   },
   "outputs": [],
   "source": [
    "sns.relplot(data= train, x='abs_log_error', y='yearbuilt', hue=train.cluster_size_optionalfea, palette='Accent')"
   ]
  },
  {
   "cell_type": "code",
   "execution_count": null,
   "id": "02c0e66e",
   "metadata": {
    "scrolled": false
   },
   "outputs": [],
   "source": [
    "stat, p_value = stats.levene(train[train.yearbuilt_bins=='homes_morethan_1935'].log_error, \n",
    "                             train[train.yearbuilt_bins=='homes_lessthan_1935'].log_error)\n",
    "stat, p_value"
   ]
  },
  {
   "cell_type": "markdown",
   "id": "05674117",
   "metadata": {},
   "source": [
    "$H_0$: Log_error of properties whose yearbuilt is less or equal than 1935 >= Log_error mean of properties whose yearbuilt is more than 1935\n",
    "\n",
    "$H_a$: Log_error of properties whose yearbuilt is less or equal than 1935 < Log_error mean of properties whose yearbuilt is more than 1935"
   ]
  },
  {
   "cell_type": "code",
   "execution_count": null,
   "id": "194cafc9",
   "metadata": {},
   "outputs": [],
   "source": [
    "sample_more = train[train.yearbuilt_bins=='homes_morethan_1935']\n",
    "sample_less= train[train.yearbuilt_bins=='homes_lessthan_1935']\n",
    "\n",
    "alpha = 0.05\n",
    "t, p = stats.ttest_ind(sample_less.log_error,sample_more.log_error,equal_var = True, random_state=123)\n",
    "\n",
    "print(t, p/2)"
   ]
  },
  {
   "cell_type": "markdown",
   "id": "e0133a02",
   "metadata": {},
   "source": [
    "We reject the null hypotheis. There is evidence to suggest that the mean log error of properties whose yearbuilt is below 1935 is mless than log error of homes built after 1935"
   ]
  },
  {
   "cell_type": "code",
   "execution_count": null,
   "id": "b47cb62c",
   "metadata": {},
   "outputs": [],
   "source": []
  },
  {
   "cell_type": "code",
   "execution_count": null,
   "id": "4b8e17e6",
   "metadata": {
    "scrolled": true
   },
   "outputs": [],
   "source": [
    "sns.scatterplot(y='age', x='log_error',\n",
    "                data=train[train.age<= 81], color='orange')\n",
    "\n",
    "sns.scatterplot(y='age', x='log_error',\n",
    "               data=train[train.age> 81], \n",
    "               color='purple')\n",
    "\n",
    "\n",
    "plt.title(\"Does yearbuilt  make a diffirence? \")\n",
    "plt.show()"
   ]
  },
  {
   "cell_type": "code",
   "execution_count": null,
   "id": "aa48d995",
   "metadata": {},
   "outputs": [],
   "source": [
    "train.age.describe()"
   ]
  },
  {
   "cell_type": "code",
   "execution_count": null,
   "id": "ca8b8463",
   "metadata": {},
   "outputs": [],
   "source": [
    "train['age_bins'] = pd.cut(train.age, [0,81,150],labels = ['homes_lessthan_81', 'homes_morethan_81'])\n"
   ]
  },
  {
   "cell_type": "code",
   "execution_count": null,
   "id": "b14478a4",
   "metadata": {},
   "outputs": [],
   "source": [
    "train.age_bins.value_counts()"
   ]
  },
  {
   "cell_type": "code",
   "execution_count": null,
   "id": "14a21c87",
   "metadata": {
    "scrolled": true
   },
   "outputs": [],
   "source": [
    "stat, p_value = stats.levene(train[train.age_bins=='homes_morethan_81'].log_error, \n",
    "                             train[train.age_bins=='homes_lessthan_81'].log_error)\n",
    "stat, p_value"
   ]
  },
  {
   "cell_type": "code",
   "execution_count": null,
   "id": "a5d836c1",
   "metadata": {},
   "outputs": [],
   "source": [
    "sample_more = train[train.age_bins=='homes_morethan_81']\n",
    "sample_less= train[train.age_bins=='homes_lessthan_81']\n",
    "\n",
    "alpha = 0.05\n",
    "t, p = stats.ttest_ind(sample_less.log_error,sample_more.log_error,equal_var = True, random_state=123)\n",
    "\n",
    "print(t, p/2)"
   ]
  },
  {
   "cell_type": "code",
   "execution_count": null,
   "id": "1b9706dc",
   "metadata": {
    "scrolled": true
   },
   "outputs": [],
   "source": [
    "train.fips"
   ]
  },
  {
   "cell_type": "markdown",
   "id": "73f5c96d",
   "metadata": {},
   "source": [
    "# Question 3 longitute vs latitude log error"
   ]
  },
  {
   "cell_type": "code",
   "execution_count": null,
   "id": "8f824549",
   "metadata": {},
   "outputs": [],
   "source": [
    "sns.scatterplot(x=train.longitude, y=train.latitude,hue=train.log_error)"
   ]
  },
  {
   "cell_type": "markdown",
   "id": "06c27122",
   "metadata": {},
   "source": [
    "# question? Is there a Relationship between green cluster and log error"
   ]
  },
  {
   "cell_type": "code",
   "execution_count": null,
   "id": "ce671639",
   "metadata": {
    "scrolled": true
   },
   "outputs": [],
   "source": [
    "sns.histplot(train.cluster_price_size)"
   ]
  },
  {
   "cell_type": "markdown",
   "id": "d9dbfbfb",
   "metadata": {},
   "source": [
    "'taxamount', 'sqft', 'lot_sqft features in cluster of interest"
   ]
  },
  {
   "cell_type": "code",
   "execution_count": null,
   "id": "62f093f0",
   "metadata": {
    "scrolled": true
   },
   "outputs": [],
   "source": [
    "sns.scatterplot(x=train.log_error, y=train.sqft)"
   ]
  },
  {
   "cell_type": "code",
   "execution_count": null,
   "id": "838d3401",
   "metadata": {},
   "outputs": [],
   "source": [
    "plt.figure(figsize=(14, 9))\n",
    "\n",
    "for cluster, subset in train.groupby('cluster_price_size'):\n",
    "    plt.scatter(x=subset.taxamount, y=subset.log_error, label='cluster' + str(cluster), alpha=.7, )\n",
    "plt.legend()\n",
    "plt.xlabel('taxamount')\n",
    "plt.ylabel('log error')\n",
    "plt.title('Visualizing Cluster Centers')"
   ]
  },
  {
   "cell_type": "code",
   "execution_count": null,
   "id": "ac18569b",
   "metadata": {},
   "outputs": [],
   "source": [
    "cluster3_price_and_size = train[train.cluster_price_size==3]"
   ]
  },
  {
   "cell_type": "code",
   "execution_count": null,
   "id": "eb5a526a",
   "metadata": {},
   "outputs": [],
   "source": [
    "cluster1_price_and_size = train[train.cluster_price_size==1]"
   ]
  },
  {
   "cell_type": "code",
   "execution_count": null,
   "id": "f4b8304d",
   "metadata": {},
   "outputs": [],
   "source": [
    "cluster2_price_and_size = train[train.cluster_price_size==2]"
   ]
  },
  {
   "cell_type": "code",
   "execution_count": null,
   "id": "e276896a",
   "metadata": {},
   "outputs": [],
   "source": [
    "cluster0_price_and_size = train[train.cluster_price_size==0]"
   ]
  },
  {
   "cell_type": "code",
   "execution_count": null,
   "id": "40176e0e",
   "metadata": {},
   "outputs": [],
   "source": [
    "alpha = 0.05\n",
    "t, p = stats.ttest_ind(cluster0_price_and_size.log_error,cluster3_price_and_size.log_error,equal_var = True, random_state=123)\n",
    "\n",
    "print(t, p/2)"
   ]
  },
  {
   "cell_type": "code",
   "execution_count": null,
   "id": "288f91d1",
   "metadata": {},
   "outputs": [],
   "source": [
    "plt.figure(figsize=(14, 9))\n",
    "\n",
    "for cluster, subset in train.groupby('cluster_price_size3'):\n",
    "    plt.scatter(x=subset.taxamount, y=subset.log_error, label='cluster' + str(cluster), alpha=.7, )\n",
    "plt.legend()\n",
    "plt.xlabel('taxamount')\n",
    "plt.ylabel('log error')\n",
    "plt.title('Visualizing Cluster Centers')"
   ]
  },
  {
   "cell_type": "code",
   "execution_count": null,
   "id": "200441f6",
   "metadata": {},
   "outputs": [],
   "source": [
    "cluster1_price_and_size3 = train[train.cluster_price_size3==1]"
   ]
  },
  {
   "cell_type": "code",
   "execution_count": null,
   "id": "4c1000aa",
   "metadata": {},
   "outputs": [],
   "source": [
    "cluster2_price_and_size3 = train[train.cluster_price_size3==2]"
   ]
  },
  {
   "cell_type": "code",
   "execution_count": null,
   "id": "698263e9",
   "metadata": {},
   "outputs": [],
   "source": [
    "cluster0_price_and_size3 = train[train.cluster_price_size3==0]"
   ]
  },
  {
   "cell_type": "code",
   "execution_count": null,
   "id": "990adf70",
   "metadata": {},
   "outputs": [],
   "source": [
    "alpha = 0.05\n",
    "t, p = stats.ttest_ind(cluster2_price_and_size3.log_error,cluster1_price_and_size3.log_error,equal_var = True, random_state=123)\n",
    "\n",
    "print(t, p/2)"
   ]
  },
  {
   "cell_type": "code",
   "execution_count": null,
   "id": "4039af98",
   "metadata": {},
   "outputs": [],
   "source": [
    "sns.relplot(x=train.abs_log_error, y= train.tax_value )"
   ]
  },
  {
   "cell_type": "code",
   "execution_count": null,
   "id": "262d5092",
   "metadata": {},
   "outputs": [],
   "source": []
  },
  {
   "cell_type": "code",
   "execution_count": null,
   "id": "6c40970a",
   "metadata": {},
   "outputs": [],
   "source": []
  },
  {
   "cell_type": "code",
   "execution_count": null,
   "id": "4632a3fa",
   "metadata": {},
   "outputs": [],
   "source": []
  },
  {
   "cell_type": "code",
   "execution_count": null,
   "id": "70be125e",
   "metadata": {},
   "outputs": [],
   "source": []
  },
  {
   "cell_type": "code",
   "execution_count": null,
   "id": "dd972795",
   "metadata": {},
   "outputs": [],
   "source": []
  },
  {
   "cell_type": "code",
   "execution_count": null,
   "id": "e5b09a90",
   "metadata": {},
   "outputs": [],
   "source": [
    "features = ['sqft','taxamount']"
   ]
  },
  {
   "cell_type": "markdown",
   "id": "79c5e8fd",
   "metadata": {},
   "source": [
    "# Models"
   ]
  },
  {
   "cell_type": "code",
   "execution_count": null,
   "id": "cc530724",
   "metadata": {},
   "outputs": [],
   "source": [
    "def get_models_with_results(X_train, y_train, X_validate, y_validate):\n",
    "    \n",
    "\n",
    "    # Baseline Model\n",
    "    # run the model\n",
    "    pred_mean = y_train.log_error.mean()\n",
    "    y_train['pred_mean'] = pred_mean\n",
    "    y_val['pred_mean'] = pred_mean\n",
    "    rmse_train = mean_squared_error(y_train.value, y_train.pred_mean, squared=False)\n",
    "    rmse_val = mean_squared_error(y_val.value, y_val.pred_mean, squared=False)\n",
    "\n",
    "    # save the results\n",
    "    metrics = pd.DataFrame(data=[{\n",
    "        'model': 'baseline_mean',\n",
    "        'rmse_train': rmse_train,\n",
    "        'r2_train': explained_variance_score(y_train.value, y_train.pred_mean),\n",
    "        'rmse_val': rmse_val,\n",
    "        'r2_val': explained_variance_score(y_val.value, y_val.pred_mean)}])\n",
    "\n",
    "    # LassoLars Model\n",
    "    # run the model\n",
    "    lars = LassoLars(alpha=1)\n",
    "    lars.fit(X_train, y_train.value)\n",
    "    y_train['pred_lars'] = lars.predict(X_train)\n",
    "    rmse_train = mean_squared_error(y_train.value, y_train.pred_lars, squared=False)\n",
    "    y_val['pred_lars'] = lars.predict(X_val)\n",
    "    rmse_val = mean_squared_error(y_val.value, y_val.pred_lars, squared=False)\n",
    "\n",
    "    # save the results\n",
    "    metrics = metrics.append({\n",
    "        'model': 'LarsLasso, alpha 1',\n",
    "        'rmse_train': rmse_train,\n",
    "        'r2_train': explained_variance_score(y_train.value, y_train.pred_lars),\n",
    "        'rmse_val': rmse_val,\n",
    "        'r2_val': explained_variance_score(y_val.value, y_val.pred_lars)}, ignore_index=True)\n",
    "\n",
    "    # Polynomial Models\n",
    "    # set up the model\n",
    "    pf = PolynomialFeatures(degree=2)\n",
    "    X_train_d2 = pf.fit_transform(X_train)\n",
    "    X_val_d2 = pf.transform(X_val)\n",
    "    \n",
    "    # run the model\n",
    "    lm2 = LinearRegression()\n",
    "    lm2.fit(X_train_d2, y_train.value)\n",
    "    y_train['pred_lm2'] = lm2.predict(X_train_d2)\n",
    "    rmse_train = mean_squared_error(y_train.value, y_train.pred_lm2, squared=False)\n",
    "    y_val['pred_lm2'] = lm2.predict(X_val_d2)\n",
    "    rmse_val = mean_squared_error(y_val.value, y_val.pred_lm2, squared=False)\n",
    "\n",
    "    # save the results\n",
    "    metrics = metrics.append({\n",
    "        'model': 'Quadratic Linear Regression',\n",
    "        'rmse_train': rmse_train,\n",
    "        'r2_train': explained_variance_score(y_train.value, y_train.pred_lm2),\n",
    "        'rmse_val': rmse_val,\n",
    "        'r2_val': explained_variance_score(y_val.value, y_val.pred_lm2)}, ignore_index=True)\n",
    "\n",
    "    # set up the model\n",
    "    pf = PolynomialFeatures(degree=3)\n",
    "    X_train_d2 = pf.fit_transform(X_train)\n",
    "    X_val_d2 = pf.transform(X_val)\n",
    "\n",
    "    # run the model\n",
    "    lm2 = LinearRegression()\n",
    "    lm2.fit(X_train_d2, y_train.value)\n",
    "    y_train['pred_lm2'] = lm2.predict(X_train_d2)\n",
    "    rmse_train = mean_squared_error(y_train.value, y_train.pred_lm2, squared=False)\n",
    "    y_val['pred_lm2'] = lm2.predict(X_val_d2)\n",
    "    rmse_val = mean_squared_error(y_val.value, y_val.pred_lm2, squared=False)\n",
    "\n",
    "    # save the results\n",
    "    metrics = metrics.append({\n",
    "        'model': 'Cubic Linear Regression',\n",
    "        'rmse_train': rmse_train,\n",
    "        'r2_train': explained_variance_score(y_train.value, y_train.pred_lm2),\n",
    "        'rmse_val': rmse_val,\n",
    "        'r2_val': explained_variance_score(y_val.value, y_val.pred_lm2)}, ignore_index=True)\n",
    "\n",
    "    return metrics\n"
   ]
  },
  {
   "cell_type": "code",
   "execution_count": null,
   "id": "377fde11",
   "metadata": {},
   "outputs": [],
   "source": []
  },
  {
   "cell_type": "code",
   "execution_count": null,
   "id": "c3bbc46b",
   "metadata": {},
   "outputs": [],
   "source": []
  },
  {
   "cell_type": "code",
   "execution_count": null,
   "id": "72780d05",
   "metadata": {},
   "outputs": [],
   "source": []
  }
 ],
 "metadata": {
  "kernelspec": {
   "display_name": "Python 3 (ipykernel)",
   "language": "python",
   "name": "python3"
  },
  "language_info": {
   "codemirror_mode": {
    "name": "ipython",
    "version": 3
   },
   "file_extension": ".py",
   "mimetype": "text/x-python",
   "name": "python",
   "nbconvert_exporter": "python",
   "pygments_lexer": "ipython3",
   "version": "3.9.12"
  }
 },
 "nbformat": 4,
 "nbformat_minor": 5
}
